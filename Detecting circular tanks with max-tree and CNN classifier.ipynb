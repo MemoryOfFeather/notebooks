{
 "cells": [
  {
   "cell_type": "markdown",
   "metadata": {},
   "source": [
    "A notebook for detecting cirular tanks on GBDX using two different models. The task [circular-tank-detector](https://github.com/PlatformStories/circular-tank-detector) accepts a pansharpened image in UTM projection and executes the following:\n",
    "\n",
    "1. Compute a max tree to select tank candidates \n",
    "2. Chip tank candidates from the input image\n",
    "3. Deploy the input or default CNN to classify candidates as 'tank' or 'other'\n",
    "\n",
    "First we use a model that was trained on data selected by the max-tree and then manually curated, followed by execution by a model trained on data selected only using the max-tree."
   ]
  },
  {
   "cell_type": "code",
   "execution_count": null,
   "metadata": {
    "collapsed": true
   },
   "outputs": [],
   "source": [
    "from gbdxtools import Interface\n",
    "from os.path import join\n",
    "import uuid"
   ]
  },
  {
   "cell_type": "code",
   "execution_count": null,
   "metadata": {
    "collapsed": true
   },
   "outputs": [],
   "source": [
    "gbdx = Interface()\n",
    "input_location = 's3://gbd-customer-data/32cbab7a-4307-40c8-bb31-e2de32f940c2/platform-stories/circular-tank-detector/'\n",
    "\n",
    "# Generate output location\n",
    "random_str = str(uuid.uuid4())\n",
    "output_location = join('platform-stories/trial-runs', random_str)"
   ]
  },
  {
   "cell_type": "code",
   "execution_count": null,
   "metadata": {
    "collapsed": true
   },
   "outputs": [],
   "source": [
    "# Create a task to deploy the manual (default) model\n",
    "ctd_manual = gbdx.Task('circular-tank-detector')\n",
    "ctd_manual.inputs.ps_image = join(input_location, 'ps-image')\n",
    "ctd_manual.inputs.min_size = '50'  # minimum acceptable area for tank candidates"
   ]
  },
  {
   "cell_type": "code",
   "execution_count": null,
   "metadata": {},
   "outputs": [],
   "source": [
    "wf_manual = gbdx.Workflow([ctd_manual])\n",
    "\n",
    "# Save output geojsons\n",
    "wf_manual.savedata(ctd_manual.outputs.detections, join(output_location, 'tank_detections_manual'))\n",
    "wf_manual.savedata(ctd_manual.outputs.candidates, join(output_location, 'tank_candidates_manual'))\n",
    "\n",
    "# Execute the workflow\n",
    "wf_manual.execute()"
   ]
  },
  {
   "cell_type": "code",
   "execution_count": null,
   "metadata": {
    "collapsed": true
   },
   "outputs": [],
   "source": [
    "# Create a task that uses the unsupervised model\n",
    "ctd_unsupervised = gbdx.Task('circular-tank-detector')\n",
    "ctd_unsupervised.inputs.ps_image = join(input_location, 'ps-image')\n",
    "ctd_unsupervised.inputs.model = join(input_location, 'models', 'unsupervised') # location of unsupervised model to use\n",
    "ctd_unsupervised.inputs.min_size = '50'  # minimum acceptable area for tank candidates"
   ]
  },
  {
   "cell_type": "code",
   "execution_count": null,
   "metadata": {},
   "outputs": [],
   "source": [
    "wf_unsupervised = gbdx.Workflow([ctd_unsupervised])\n",
    "\n",
    "# Save output geojsons\n",
    "wf_unsupervised.savedata(ctd_unsupervised.outputs.detections, join(output_location, 'tank_detections_unsupervised'))\n",
    "wf_unsupervised.savedata(ctd_unsupervised.outputs.candidates, join(output_location, 'tank_candidates_unsupervised'))\n",
    "\n",
    "# Execute the workflow\n",
    "wf_unsupervised.execute()"
   ]
  },
  {
   "cell_type": "code",
   "execution_count": null,
   "metadata": {},
   "outputs": [],
   "source": [
    "# Check status of first workflow\n",
    "wf_manual.status"
   ]
  },
  {
   "cell_type": "code",
   "execution_count": null,
   "metadata": {},
   "outputs": [],
   "source": [
    "# Check status of second workflow\n",
    "wf_unsupervised.status"
   ]
  },
  {
   "cell_type": "code",
   "execution_count": null,
   "metadata": {
    "collapsed": true
   },
   "outputs": [],
   "source": []
  }
 ],
 "metadata": {
  "kernelspec": {
   "display_name": "Python [conda env:dg]",
   "language": "python",
   "name": "conda-env-dg-py"
  },
  "language_info": {
   "codemirror_mode": {
    "name": "ipython",
    "version": 3
   },
   "file_extension": ".py",
   "mimetype": "text/x-python",
   "name": "python",
   "nbconvert_exporter": "python",
   "pygments_lexer": "ipython3",
   "version": "3.5.3"
  }
 },
 "nbformat": 4,
 "nbformat_minor": 2
}
