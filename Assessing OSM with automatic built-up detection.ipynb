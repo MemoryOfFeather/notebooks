{
 "cells": [
  {
   "cell_type": "markdown",
   "metadata": {},
   "source": [
    "We want to use GBDX to obtain a bird's eye view of the degree of completeness of [OpenStreetMap (OSM)](https://www.openstreetmap.org) building footprints in different cities around the world. The goal is to use this information to intelligently direct mappers where they are most needed.\n",
    "\n",
    "The idea is to run our unsupervised Land Use Land Cover (LULC) classification algorithm over these regions in order to \n",
    "classify each pixel as water, vegetation, clouds, soil, shadows and unclassified. By exclusion, the last category corresponds to materials like stone, cement and metal, which are used in buildings and roads, and can therefore be used as an approximation of built-up areas.\n",
    "\n",
    "Overlaying the results of the algorithm with existing OSM building footprints, we can get an idea of OSM coverage. "
   ]
  },
  {
   "cell_type": "markdown",
   "metadata": {},
   "source": [
    "Create a GBDX interface using gbdxtools. You need your credentials to do this; you can find them under your profile on [gbdx.geobigdata.io](https://gbdx.geobigdata.io/login)."
   ]
  },
  {
   "cell_type": "code",
   "execution_count": null,
   "metadata": {
    "collapsed": true
   },
   "outputs": [],
   "source": [
    "import os\n",
    "os.environ['GBDX_USERNAME'] = \n",
    "os.environ['GBDX_PASSWORD'] = \n",
    "os.environ['GBDX_CLIENT_ID'] =  \n",
    "os.environ['GBDX_CLIENT_SECRET'] = \n",
    "\n",
    "import gbdxtools\n",
    "gbdx = gbdxtools.Interface()"
   ]
  },
  {
   "cell_type": "markdown",
   "metadata": {},
   "source": [
    "We've selected imagery for each city."
   ]
  },
  {
   "cell_type": "code",
   "execution_count": 9,
   "metadata": {},
   "outputs": [],
   "source": [
    "# catalog ids\n",
    "\n",
    "cat_ids = {'nyc':         '104001001DB7BA00',\n",
    "           'houston':     '104001001838A000',\n",
    "           'la':          '104001001EBB4400', \n",
    "           'montreal':    '1040010023BEFD00', \n",
    "           'athens':      '104001001B6E1400', \n",
    "           'madrid':      '1040010019852500', \n",
    "           'nairobi':     '103001005C7E5400', \n",
    "           'amman':       '103001003E6FFC00', \n",
    "           'santiago':    '1040010029467C00',\n",
    "           'bangkok':     '1030010063748E00',\n",
    "           'cairo':       '1030010063AFF100',\n",
    "           'osaka':       '10300100643CAC00',\n",
    "           'buenosaires': '103001006414E800',\n",
    "           'shanghai':    '1030010049993B00',\n",
    "           'tehran':      '103001005ED0D000',\n",
    "           'asuncion':    '103001005A8A6400',\n",
    "           'ulaanbaatar': '103001005F575800',\n",
    "           'perth':       '104001001D365400' }\n",
    "\n",
    "cities = cat_ids.keys()"
   ]
  },
  {
   "cell_type": "markdown",
   "metadata": {},
   "source": [
    "For each catalog id, we run a GBDX workflow which orders the raw image from the DG factory and then produces an orthorectified, atmospherically compensated 8-band image using the [AOP_Strip_Processor](http://gbdxdocs.digitalglobe.com/docs/advanced-image-preprocessor). Once the workflows complete, the images are stored under platform-stories/osm-lulc/images. This is a time-consuming step which you can skip as we've already run it for you."
   ]
  },
  {
   "cell_type": "code",
   "execution_count": null,
   "metadata": {},
   "outputs": [],
   "source": [
    "output_location = 'platform-stories/osm-lulc/images'   # where to save the images\n",
    "wf_ids = {}\n",
    "\n",
    "from os.path import join\n",
    "\n",
    "for city in cities:\n",
    "    \n",
    "    # create order task\n",
    "    # it the images are not on GBDX, this task will order them from the DG factory\n",
    "    order = gbdx.Task('Auto_Ordering')\n",
    "    order.inputs.cat_id = cat_ids[city]\n",
    "    order.impersonation_allowed = True\n",
    "\n",
    "    # run orthorectification and acomp\n",
    "    aop_ms = gbdx.Task('AOP_Strip_Processor')\n",
    "    aop_ms.inputs.data = order.outputs.s3_location.value\n",
    "    aop_ms.inputs.bands = 'MS'\n",
    "    aop_ms.inputs.enable_acomp = True\n",
    "    aop_ms.inputs.enable_pansharpen = False\n",
    "    aop_ms.inputs.enable_dra = False\n",
    "\n",
    "    # define preprocessing workflow\n",
    "    wf = gbdx.Workflow([order, aop_ms])\n",
    "\n",
    "    # set output location \n",
    "    wf.savedata(aop_ms.outputs.data, join(output_location, city))\n",
    "\n",
    "    # execute\n",
    "    wf_ids[city] = wf.execute()\n",
    "    "
   ]
  },
  {
   "cell_type": "code",
   "execution_count": null,
   "metadata": {},
   "outputs": [],
   "source": [
    "# check status of workflows    \n",
    "for city in cities:\n",
    "    wf = gbdx.Workflow([])\n",
    "    wf.id = wf_ids[city]\n",
    "    print city, wf.id, wf.status"
   ]
  },
  {
   "cell_type": "markdown",
   "metadata": {},
   "source": [
    "For each city, we've also determined a rectangular AOI. Find the coordinates below in W, S, E, N."
   ]
  },
  {
   "cell_type": "code",
   "execution_count": 17,
   "metadata": {
    "collapsed": true
   },
   "outputs": [],
   "source": [
    "bboxes = {'nyc': (-73.95632922649384, 40.67078428278468, -73.89315783977509, 40.74625719581601),\n",
    "          'houston': (-95.13090491294861, 29.719047995031016, -94.99769568443298, 29.901953768885594),\n",
    "          'la': (-118.32255542278288, 34.15873756789489, -118.17252337932585, 34.28251185970165),\n",
    "          'montreal': (-73.68750751018524, 45.62199932750296, -73.52236926555634, 45.755584499516516),\n",
    "          'athens': (23.63831341266632, 38.01784624197521, 23.791778683662415, 38.11515296145808),\n",
    "          'madrid': (-3.7636488676071167, 40.451429341017324, -3.6263197660446167, 40.5083584870881),\n",
    "          'nairobi': (36.73872381448745, -1.3279983315316601, 36.88343435525894, -1.242017618358388),\n",
    "          'amman': (35.79846203327179, 31.888389626458963, 35.97424328327179, 32.043632232381455),\n",
    "          'santiago': (-70.74042499065399, -33.45030473839097, -70.58936297893524, -33.3886947889702),\n",
    "          'bangkok': (100.44030010700226, 13.575965977708762, 100.5965119600296, 13.671059968841831),\n",
    "          'cairo': (31.244285702705383, 30.045368026249772, 31.349342465400696, 30.11874679593054),\n",
    "          'osaka': (135.4063493013382, 34.598781325037756, 135.48188030719757, 34.712028818736535),\n",
    "          'buenosaires': (-58.50621789693832, -34.67611297581835, -58.39000314474106, -34.596736825050044),\n",
    "          'shanghai': (121.50280773639678, 31.13559214758519, 121.60855114459991, 31.23486673223854),\n",
    "          'tehran': (51.29124462604522, 35.712275224230865, 51.481788754463196, 35.8234243437396),\n",
    "          'perth': (115.77790081501009, -31.958215741514543, 115.92449963092803, -31.80399586706599),\n",
    "          'ulaanbaatar': (106.72447979450226, 47.8784119735556, 106.93768322467804, 47.93939724053319),\n",
    "          'asuncion': (-57.67184436321258, -25.389250469786013, -57.524215579032905, -25.26729487165973)  \n",
    "         }"
   ]
  },
  {
   "cell_type": "markdown",
   "metadata": {},
   "source": [
    "We are now ready to deploy on GBDX. The following GBDX workflow does a few things:\n",
    "- Runs LULC algorithm to create built-up mask for each area of interest as a black-and-white tif image. This is done with the task [lulc](https://github.com/PlatformStories/lulc).\n",
    "- Downloads the OSM building footprints within the area of interest using the OSM Overpass API. We've created the task [download-osm-buildings](https://github.com/PlatformStories/download-osm-buildings) for this purpose, which outputs a geojson file with the building footprints. \n",
    "- Uploads the mask and the geojson to mapbox for visualization. We've created the task [upload-to-mapbox](https://github.com/PlatformStories/download-osm-buildings) for this purpose."
   ]
  },
  {
   "cell_type": "code",
   "execution_count": 18,
   "metadata": {},
   "outputs": [],
   "source": [
    "from os.path import join\n",
    "\n",
    "wwf_ids = {}\n",
    "\n",
    "# execute a workflow for each city\n",
    "for city in cities:    \n",
    "    \n",
    "    # lulc\n",
    "    lulc = gbdx.Task('lulc')\n",
    "    lulc.inputs.image = join('s3://gbd-customer-data/32cbab7a-4307-40c8-bb31-e2de32f940c2/platform-stories/osm-lulc/images', city)\n",
    "    lulc.inputs.unclassified = 'True'                    # get mask of unclassified class\n",
    "    lulc.inputs.bbox = ','.join(map(str, bboxes[city]))  # extent of mask\n",
    "    \n",
    "    # download osm building footprints in bounding box\n",
    "    dob = gbdx.Task('download-osm-buildings')\n",
    "    dob.inputs.bbox = ','.join(map(str, bbox))\n",
    "\n",
    "    # upload results to mapbox\n",
    "    utom_mask = gbdx.Task('upload-to-mapbox')\n",
    "    utom_mask.inputs.input = lulc.outputs.image.value\n",
    "    utom_mask.inputs.tileset_name = 'osm-lulc-ras-' + city \n",
    "    utom_mask.inputs.token = mapbox_token    \n",
    "    utom_footprints = gbdx.Task('upload-to-mapbox')\n",
    "    utom_footprints.inputs.input = dob.outputs.geojson.value\n",
    "    utom_footprints.inputs.tileset_name = 'osm-lulc-vec-' + city \n",
    "    utom_footprints.inputs.token = mapbox_token \n",
    "    \n",
    "    # execute the workflow and save data on s3\n",
    "    wf = gbdx.Workflow([lulc, dob, utom_mask, utom_footprints])\n",
    "    output_location = join('platform-stories/trial-runs/osm-lulc', city)\n",
    "    wf.savedata(lulc.outputs.image, join(output_location, 'mask'))\n",
    "    wf.savedata(dob.outputs.geojson, join(output_location, 'geojson'))\n",
    "    wwf_ids[city] = wf.execute()"
   ]
  },
  {
   "cell_type": "code",
   "execution_count": 20,
   "metadata": {},
   "outputs": [
    {
     "name": "stdout",
     "output_type": "stream",
     "text": [
      "houston 4721511035795212728 {u'state': u'complete', u'event': u'succeeded'}\n",
      "santiago 4721511038336219597 {u'state': u'complete', u'event': u'succeeded'}\n",
      "shanghai 4721511040534352246 {u'state': u'complete', u'event': u'succeeded'}\n",
      "la 4721511042788392266 {u'state': u'complete', u'event': u'succeeded'}\n",
      "cairo 4721511045009778168 {u'state': u'complete', u'event': u'succeeded'}\n",
      "madrid 4721511047195780891 {u'state': u'complete', u'event': u'succeeded'}\n",
      "osaka 4721511050206380624 {u'state': u'complete', u'event': u'succeeded'}\n",
      "buenosaires 4721511052592271826 {u'state': u'complete', u'event': u'succeeded'}\n",
      "athens 4721511054826476755 {u'state': u'complete', u'event': u'succeeded'}\n",
      "bangkok 4721511057099759538 {u'state': u'complete', u'event': u'succeeded'}\n",
      "perth 4721511059355679532 {u'state': u'complete', u'event': u'succeeded'}\n",
      "amman 4721511061509714340 {u'state': u'complete', u'event': u'succeeded'}\n",
      "tehran 4721511063737872676 {u'state': u'complete', u'event': u'succeeded'}\n",
      "nyc 4721511065997256917 {u'state': u'complete', u'event': u'succeeded'}\n",
      "asuncion 4721511068201619270 {u'state': u'complete', u'event': u'succeeded'}\n",
      "ulaanbaatar 4721511070449823753 {u'state': u'complete', u'event': u'succeeded'}\n",
      "nairobi 4721511072747135142 {u'state': u'complete', u'event': u'succeeded'}\n",
      "montreal 4721511075176780221 {u'state': u'running', u'event': u'started'}\n"
     ]
    }
   ],
   "source": [
    "# check status of workflows\n",
    "for city in cities:\n",
    "    wf = gbdx.Workflow([])\n",
    "    wf.id = wwf_ids[city]\n",
    "    print city, wf.id, wf.status"
   ]
  },
  {
   "cell_type": "markdown",
   "metadata": {},
   "source": [
    "If you have a Mapbox account, you can check if your raster and vector tile sets have been successfully uploaded to mapbox at [https://www.mapbox.com/studio/tilesets/](https://www.mapbox.com/studio/tilesets/). We've created a demo html page with the results [here](http://gbdxstories.digitalglobe.com/pages/osm-lulc/cities.html). For each city, the built-up mask is shown in black-and-white and the buildings that we retrieved from the OSM Overpass API are shown in green."
   ]
  }
 ],
 "metadata": {
  "kernelspec": {
   "display_name": "Python 2",
   "language": "python",
   "name": "python2"
  },
  "language_info": {
   "codemirror_mode": {
    "name": "ipython",
    "version": 2
   },
   "file_extension": ".py",
   "mimetype": "text/x-python",
   "name": "python",
   "nbconvert_exporter": "python",
   "pygments_lexer": "ipython2",
   "version": "2.7.12"
  }
 },
 "nbformat": 4,
 "nbformat_minor": 1
}
