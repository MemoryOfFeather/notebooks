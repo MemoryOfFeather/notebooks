{
 "cells": [
  {
   "cell_type": "markdown",
   "metadata": {},
   "source": [
    "The Australian company PSMA teamed up with DG to develop the product Geoscape: a diverse set of building attributes including height, rooftop material, solar panel installation and presence of a swimming pool in the property across the entire Australian continent. We used deep learning on GBDX to identify swimming pools in thousands of properties across Adelaide, a major city on the southern coast of Australia with a population of approximately one million. The full story is [here](http://gbdxstories.digitalglobe.com/swimming-pools/)"
   ]
  },
  {
   "cell_type": "code",
   "execution_count": null,
   "metadata": {
    "collapsed": false
   },
   "outputs": [],
   "source": [
    "# Specify your credentials and create a gbdx interface\n",
    "\n",
    "import os\n",
    "os.environ['GBDX_USERNAME'] = ''\n",
    "os.environ['GBDX_PASSWORD'] = ''\n",
    "os.environ['GBDX_CLIENT_ID'] = '' \n",
    "os.environ['GBDX_CLIENT_SECRET'] = ''\n",
    "\n",
    "import gbdxtools\n",
    "gbdx = gbdxtools.Interface()"
   ]
  },
  {
   "cell_type": "code",
   "execution_count": null,
   "metadata": {
    "collapsed": false
   },
   "outputs": [],
   "source": [
    "# Specify location of files needed in this story\n",
    "input_location = 's3://gbd-customer-data/58600248-2927-4523-b44b-5fec3d278c09/platform-stories/swimming-pools'"
   ]
  },
  {
   "cell_type": "code",
   "execution_count": null,
   "metadata": {
    "collapsed": true
   },
   "outputs": [],
   "source": [
    "# Create the train task and set its input parameters\n",
    "\n",
    "from os.path import join\n",
    "train_task = gbdx.Task('train-cnn-classifier')\n",
    "train_task.inputs.images = join(input_location, 'images')\n",
    "train_task.inputs.geojson = join(input_location, 'train_geojson')\n",
    "train_task.inputs.classes = 'No swimming pool, Swimming pool'     # Classes exactly as they appear in train.geojson\n",
    "\n",
    "train_task.inputs.nb_epoch = '30'\n",
    "train_task.inputs.nb_epoch_2 = '5'\n",
    "train_task.inputs.train_size = '4500'\n",
    "train_task.inputs.train_size_2 = '2500'\n",
    "train_task.inputs.test_size = '1000'\n",
    "train_task.inputs.bit_depth = '8'         # Provided imagery is dra'd"
   ]
  },
  {
   "cell_type": "code",
   "execution_count": null,
   "metadata": {
    "collapsed": true
   },
   "outputs": [],
   "source": [
    "# Create the deploy task and set its input parameters\n",
    "\n",
    "deploy_task = gbdx.Task('deploy-cnn-classifier')\n",
    "deploy_task.inputs.model = train_task.outputs.trained_model.value     # Trained model from train_task\n",
    "deploy_task.inputs.images = join(input_location, 'images')\n",
    "deploy_task.inputs.geojson = join(input_location, 'target_geojson')\n",
    "deploy_task.inputs.classes = 'No swimming pool, Swimming pool'\n",
    "deploy_task.inputs.bit_depth = '8'\n",
    "deploy_task.inputs.min_side_dim = '10'    # Minimum acceptable side dimension for a polygon"
   ]
  },
  {
   "cell_type": "code",
   "execution_count": null,
   "metadata": {
    "collapsed": true
   },
   "outputs": [],
   "source": [
    "# String the tasks in a workflow\n",
    "workflow = gbdx.Workflow([train_task, deploy_task])\n",
    "\n",
    "# Set output location to platform-stories/trial-runs/random_str within your bucket/prefix\n",
    "import uuid\n",
    "random_str = str(uuid.uuid4())\n",
    "output_location = join('platform-stories/trial-runs', random_str)\n",
    "\n",
    "# save workflow outputs\n",
    "workflow.savedata(train_task.outputs.trained_model, join(output_location, 'trained_model'))\n",
    "workflow.savedata(deploy_task.outputs.classified_geojson, join(output_location, 'classified_geojson'))"
   ]
  },
  {
   "cell_type": "code",
   "execution_count": null,
   "metadata": {
    "collapsed": false
   },
   "outputs": [],
   "source": [
    "# Execute the workflow\n",
    "workflow.execute()"
   ]
  },
  {
   "cell_type": "code",
   "execution_count": null,
   "metadata": {
    "collapsed": false
   },
   "outputs": [],
   "source": [
    "workflow.status"
   ]
  },
  {
   "cell_type": "code",
   "execution_count": null,
   "metadata": {
    "collapsed": false
   },
   "outputs": [],
   "source": [
    "# Check under this location for the output\n",
    "print output_location"
   ]
  },
  {
   "cell_type": "code",
   "execution_count": null,
   "metadata": {
    "collapsed": false
   },
   "outputs": [],
   "source": [
    "# Create slippy map\n",
    "from ipyleaflet import Map, TileLayer\n",
    "\n",
    "m = Map(center=[-35.28, 138.46], zoom=15)\n",
    "\n",
    "# This is IDAHO TMS url; we've saved the pansharpened strip in IDAHO format in a custom bucket and are serving it through the TMS service\n",
    "url = 'http://idaho.geobigdata.io/v1/tile/platform-stories/d4060685-1ee2-492b-a5f9-fe68b376e13a/{z}/{x}/{y}?bands=0,1,2&token=' + gbdx.gbdx_connection.access_token\n",
    "\n",
    "m.add_layer(TileLayer(url=url))\n",
    "    \n",
    "# launch map    \n",
    "m"
   ]
  },
  {
   "cell_type": "code",
   "execution_count": null,
   "metadata": {
    "collapsed": false
   },
   "outputs": [],
   "source": [
    "# Download results\n",
    "gbdx.s3.download(join(output_location, 'classified_geojson'))"
   ]
  },
  {
   "cell_type": "code",
   "execution_count": null,
   "metadata": {
    "collapsed": false
   },
   "outputs": [],
   "source": [
    "import json\n",
    "with open('classified.geojson') as f:\n",
    "    data = json.load(f)\n",
    "        \n",
    "n_properties = len(data['features'])\n",
    "print 'There are ' + str(n_properties) + ' classified properties'\n",
    "\n",
    "# Assign color based on classification\n",
    "for feature in data['features']:\n",
    "    if feature['properties']['CNN_class'] == 'Swimming pool':\n",
    "        c = 'green'\n",
    "    else:\n",
    "        c = 'red'\n",
    "    feature['properties']['style'] = {'color':c, 'fillOpacity':0}\n",
    "    \n",
    "from ipyleaflet import GeoJSON\n",
    "g = GeoJSON(data=data)\n",
    "\n",
    "# launch map\n",
    "m.add_layer(g)\n",
    "m"
   ]
  }
 ],
 "metadata": {
  "kernelspec": {
   "display_name": "Python 2",
   "language": "python",
   "name": "python2"
  },
  "language_info": {
   "codemirror_mode": {
    "name": "ipython",
    "version": 2
   },
   "file_extension": ".py",
   "mimetype": "text/x-python",
   "name": "python",
   "nbconvert_exporter": "python",
   "pygments_lexer": "ipython2",
   "version": "2.7.11"
  }
 },
 "nbformat": 4,
 "nbformat_minor": 0
}
