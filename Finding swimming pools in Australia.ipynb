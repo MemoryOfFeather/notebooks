{
 "cells": [
  {
   "cell_type": "markdown",
   "metadata": {},
   "source": [
    "The Australian company PSMA teamed up with DG to develop the product Geoscape: a diverse set of building attributes including height, rooftop material, solar panel installation and presence of a swimming pool in the property across the entire Australian continent. We used deep learning on GBDX to identify swimming pools in thousands of properties across Adelaide, a major city on the southern coast of Australia with a population of approximately one million. The full story is [here](http://gbdxstories.digitalglobe.com/swimming-pools/)."
   ]
  },
  {
   "cell_type": "code",
   "execution_count": null,
   "metadata": {
    "collapsed": true
   },
   "outputs": [],
   "source": [
    "# Specify your credentials and create a gbdx interface\n",
    "\n",
    "import os\n",
    "os.environ['GBDX_USERNAME'] = ''\n",
    "os.environ['GBDX_PASSWORD'] = ''\n",
    "os.environ['GBDX_CLIENT_ID'] = '' \n",
    "os.environ['GBDX_CLIENT_SECRET'] = ''\n",
    "\n",
    "import gbdxtools\n",
    "gbdx = gbdxtools.Interface()"
   ]
  },
  {
   "cell_type": "markdown",
   "metadata": {},
   "source": [
    "Specify location of input files."
   ]
  },
  {
   "cell_type": "code",
   "execution_count": 2,
   "metadata": {},
   "outputs": [],
   "source": [
    "input_location = 's3://gbd-customer-data/32cbab7a-4307-40c8-bb31-e2de32f940c2/platform-stories/swimming-pools'"
   ]
  },
  {
   "cell_type": "markdown",
   "metadata": {},
   "source": [
    "Create a train_task object and set its input parameters."
   ]
  },
  {
   "cell_type": "code",
   "execution_count": null,
   "metadata": {
    "collapsed": true
   },
   "outputs": [],
   "source": [
    "from os.path import join\n",
    "\n",
    "train_task = gbdx.Task('train-cnn-classifier')\n",
    "train_task.inputs.images = join(input_location, 'images')\n",
    "train_task.inputs.geojson = join(input_location, 'train-geojson')\n",
    "train_task.inputs.classes = 'No swimming pool, Swimming pool'     # Classes exactly as they appear in train.geojson"
   ]
  },
  {
   "cell_type": "markdown",
   "metadata": {},
   "source": [
    "In training our model, we can set optional hyper-parameters. See the [docs](https://github.com/PlatformStories/train-cnn-classifier) for detailed information. Training should take around 3 hours to complete."
   ]
  },
  {
   "cell_type": "code",
   "execution_count": 3,
   "metadata": {
    "collapsed": true
   },
   "outputs": [],
   "source": [
    "train_task.inputs.nb_epoch = '30'\n",
    "train_task.inputs.nb_epoch_2 = '5'\n",
    "train_task.inputs.train_size = '4500'\n",
    "train_task.inputs.train_size_2 = '2500'\n",
    "train_task.inputs.test_size = '1000'\n",
    "train_task.inputs.bit_depth = '8'         # Provided imagery is dra'd"
   ]
  },
  {
   "cell_type": "markdown",
   "metadata": {},
   "source": [
    "Create a deploy_task object with the required inputs, and set the model input as the output of train_task."
   ]
  },
  {
   "cell_type": "code",
   "execution_count": null,
   "metadata": {
    "collapsed": true
   },
   "outputs": [],
   "source": [
    "deploy_task = gbdx.Task('deploy-cnn-classifier')\n",
    "deploy_task.inputs.model = train_task.outputs.trained_model.value     # Trained model from train_task\n",
    "deploy_task.inputs.images = join(input_location, 'images')\n",
    "deploy_task.inputs.geojson = join(input_location, 'target-geojson')"
   ]
  },
  {
   "cell_type": "markdown",
   "metadata": {},
   "source": [
    "Specify the classes for the deploy task. We can also restrict the size of polygons that we deploy on and set the appropriate bit depth for the input imagery."
   ]
  },
  {
   "cell_type": "code",
   "execution_count": 4,
   "metadata": {
    "collapsed": true
   },
   "outputs": [],
   "source": [
    "deploy_task.inputs.classes = 'No swimming pool, Swimming pool'\n",
    "deploy_task.inputs.bit_depth = '8'\n",
    "deploy_task.inputs.min_side_dim = '10'   "
   ]
  },
  {
   "cell_type": "markdown",
   "metadata": {},
   "source": [
    "String the two tasks together in a workflow and save the output in the specified directory."
   ]
  },
  {
   "cell_type": "code",
   "execution_count": 5,
   "metadata": {
    "collapsed": true
   },
   "outputs": [],
   "source": [
    "# String the tasks in a workflow\n",
    "wf = gbdx.Workflow([train_task, deploy_task])\n",
    "\n",
    "# Set output location to platform-stories/trial-runs/swimming-pools within your bucket/prefix\n",
    "output_location = 'platform-stories/trial-runs/swimming-pools'\n",
    "\n",
    "# save workflow outputs\n",
    "wf.savedata(train_task.outputs.trained_model, join(output_location, 'trained-model'))\n",
    "wf.savedata(deploy_task.outputs.classified_geojson, join(output_location, 'classified-geojson'))"
   ]
  },
  {
   "cell_type": "markdown",
   "metadata": {},
   "source": [
    "Execute!"
   ]
  },
  {
   "cell_type": "code",
   "execution_count": 6,
   "metadata": {},
   "outputs": [
    {
     "data": {
      "text/plain": [
       "u'4720896975705607770'"
      ]
     },
     "execution_count": 6,
     "metadata": {},
     "output_type": "execute_result"
    }
   ],
   "source": [
    "wf.execute()"
   ]
  },
  {
   "cell_type": "markdown",
   "metadata": {},
   "source": [
    "Depending on the hyper-parameters set on the model, training sizes, and size of the deploy file, this workflow can take several hours to run. You may check on the status periodically as follows."
   ]
  },
  {
   "cell_type": "code",
   "execution_count": 27,
   "metadata": {},
   "outputs": [
    {
     "data": {
      "text/plain": [
       "{u'event': u'succeeded', u'state': u'complete'}"
      ]
     },
     "execution_count": 27,
     "metadata": {},
     "output_type": "execute_result"
    }
   ],
   "source": [
    "wf.status"
   ]
  },
  {
   "cell_type": "markdown",
   "metadata": {},
   "source": [
    "A detailed description of the status of each task can be obtained as follows."
   ]
  },
  {
   "cell_type": "code",
   "execution_count": null,
   "metadata": {},
   "outputs": [],
   "source": [
    "wf.events"
   ]
  },
  {
   "cell_type": "markdown",
   "metadata": {},
   "source": [
    "Download outputs."
   ]
  },
  {
   "cell_type": "code",
   "execution_count": null,
   "metadata": {
    "collapsed": true
   },
   "outputs": [],
   "source": [
    "gbdx.s3.download(join(output_location, 'trained-model/model_architecture.json'), 'trained-model/')\n",
    "gbdx.s3.download(join(output_location, 'trained-model/model_weights.h5'), 'trained-model/')\n",
    "gbdx.s3.download(join(output_location, 'trained-model/test_report.txt'), 'trained-model/')\n",
    "gbdx.s3.download(join(output_location, 'classified-geojson'), 'classified-geojson')"
   ]
  },
  {
   "cell_type": "markdown",
   "metadata": {},
   "source": [
    "Put the classified properties on the map."
   ]
  },
  {
   "cell_type": "code",
   "execution_count": 31,
   "metadata": {},
   "outputs": [
    {
     "name": "stdout",
     "output_type": "stream",
     "text": [
      "There are 4997 classified properties\n"
     ]
    },
    {
     "data": {
      "application/vnd.jupyter.widget-view+json": {
       "model_id": "ada1ab98b0724423b49ace19be6d2e44"
      }
     },
     "metadata": {},
     "output_type": "display_data"
    }
   ],
   "source": [
    "# Create slippy map\n",
    "from ipyleaflet import Map, TileLayer, GeoJSON\n",
    "import json\n",
    "\n",
    "m = Map(center=[-35.28, 138.46], zoom=15)\n",
    "\n",
    "# This is the Mapbox TMS URL\n",
    "mapbox_token = 'pk.eyJ1IjoicGxhdGZvcm1zdG9yaWVzIiwiYSI6ImNpeTZkeWlvOTAwNm0yeHFocHFyaGFleDcifQ.wOsbVsS0NXKrWeX2bQwc-g'\n",
    "url = 'https://a.tiles.mapbox.com/v4/platformstories.swimming-pools-adelaide/{z}/{x}/{y}.png?access_token=' + mapbox_token\n",
    "\n",
    "# add raster layer\n",
    "m.add_layer(TileLayer(url=url))\n",
    "  \n",
    "with open('classified-geojson/classified.geojson') as f:\n",
    "    data = json.load(f)\n",
    "        \n",
    "n_properties = len(data['features'])\n",
    "print 'There are ' + str(n_properties) + ' classified properties'\n",
    "\n",
    "# Assign color based on classification\n",
    "for feature in data['features']:\n",
    "    if feature['properties']['CNN_class'] == 'Swimming pool':\n",
    "        c = 'green'\n",
    "    else:\n",
    "        c = 'red'\n",
    "    feature['properties']['style'] = {'color':c, 'fillOpacity':0}\n",
    "\n",
    "g = GeoJSON(data=data)\n",
    "\n",
    "# add vector layer\n",
    "m.add_layer(g)\n",
    "\n",
    "m        "
   ]
  },
  {
   "cell_type": "code",
   "execution_count": null,
   "metadata": {
    "collapsed": true
   },
   "outputs": [],
   "source": []
  }
 ],
 "metadata": {
  "kernelspec": {
   "display_name": "Python 2",
   "language": "python",
   "name": "python2"
  },
  "language_info": {
   "codemirror_mode": {
    "name": "ipython",
    "version": 2
   },
   "file_extension": ".py",
   "mimetype": "text/x-python",
   "name": "python",
   "nbconvert_exporter": "python",
   "pygments_lexer": "ipython2",
   "version": "2.7.12"
  }
 },
 "nbformat": 4,
 "nbformat_minor": 1
}
