{
 "cells": [
  {
   "cell_type": "markdown",
   "metadata": {},
   "source": [
    "The following code can be used to order and process via the [AOP_Strip_Processor](http://gbdxdocs.digitalglobe.com/docs/advanced-image-preprocessor) a list of images, as specified by their GBDX catalog ids."
   ]
  },
  {
   "cell_type": "code",
   "execution_count": null,
   "metadata": {
    "collapsed": true
   },
   "outputs": [],
   "source": [
    "# Specify your credentials and create a gbdx interface\n",
    "\n",
    "import os\n",
    "os.environ['GBDX_USERNAME'] = ''\n",
    "os.environ['GBDX_PASSWORD'] = ''\n",
    "os.environ['GBDX_CLIENT_ID'] = '' \n",
    "os.environ['GBDX_CLIENT_SECRET'] = ''\n",
    "\n",
    "import gbdxtools\n",
    "gbdx = gbdxtools.Interface()"
   ]
  },
  {
   "cell_type": "code",
   "execution_count": null,
   "metadata": {
    "collapsed": true
   },
   "outputs": [],
   "source": [
    "# specify catalog ids\n",
    "catalog_ids = ['1030010004C45A00', '104001001E9EF700']\n",
    "\n",
    "# create order task\n",
    "# it the images are not on GBDX, this task will order them from the DG factory\n",
    "order = gbdx.Task('Auto_Ordering')\n",
    "# pass both catalog ids as inputs - this will launch a batch workflow\n",
    "order.inputs.cat_id = catalog_ids\n",
    "# for this particular task, we need to set this flag to true\n",
    "order.impersonation_allowed = True\n",
    "\n",
    "# create preprocessing task and set input parameters\n",
    "aop = gbdx.Task('AOP_Strip_Processor')\n",
    "aop.inputs.data = order.outputs.s3_location.value\n",
    "aop.inputs.bands = 'MS'\n",
    "aop.inputs.enable_dra = False\n",
    "aop.inputs.enable_pansharpen = False\n",
    "aop.inputs.enable_acomp = True\n",
    "aop.inputs.enable_tiling = False\n",
    "aop.inputs.ortho_epsg = 'UTM'     # this setting is optional\n",
    "\n",
    "# create two-task preprocessing workflow\n",
    "preprocess_wf = gbdx.Workflow([order, aop])\n",
    "\n",
    "# set output location to platform-stories/trial-runs/random_str within your bucket/prefix\n",
    "from os.path import join\n",
    "import uuid\n",
    "random_str = str(uuid.uuid4())\n",
    "output_location = join('platform-stories/trial-runs', random_str)\n",
    "\n",
    "# the two processed images will be stored under output_location\n",
    "preprocess_wf.savedata(aop.outputs.data, output_location)\n",
    "\n",
    "# execute\n",
    "preprocess_wf.execute()\n",
    "\n",
    "# check under this location for the output\n",
    "print output_location"
   ]
  },
  {
   "cell_type": "code",
   "execution_count": null,
   "metadata": {
    "collapsed": false
   },
   "outputs": [],
   "source": [
    "# monitor status\n",
    "preprocess_wf.status"
   ]
  },
  {
   "cell_type": "markdown",
   "metadata": {},
   "source": [
    "It is sometimes the case that pansharpening an image with the default Dynamic Range Adjustment (DRA) of the [image preprocessor](https://gbdxdocs.digitalglobe.com/docs/advanced-image-preprocessor) results in poor viewing quality.\n",
    "The solution is to apply DRA using Base Layer Matching. There is a specific task that does this and this is how it plugs into the image preprocessor. "
   ]
  },
  {
   "cell_type": "code",
   "execution_count": null,
   "metadata": {
    "collapsed": true
   },
   "outputs": [],
   "source": [
    "from os.path import join\n",
    "\n",
    "catid = '1040010014800C00'\n",
    "    \n",
    "order = gbdx.Task('Auto_Ordering')\n",
    "order.inputs.cat_id = catid\n",
    "order.impersonation_allowed = True\n",
    "\n",
    "aop = gbdx.Task('AOP_Strip_Processor')\n",
    "aop.inputs.data = order.outputs.s3_location.value\n",
    "aop.inputs.enable_dra = False                          # disable automatic dra\n",
    "\n",
    "blm = gbdx.Task('baselayermatch')\n",
    "blm.inputs.data = aop.outputs.data.value\n",
    "blm.inputs.cloud_id = catid                            # take clouds into account when dra'ing\n",
    "\n",
    "preprocess_wf = gbdx.Workflow([order, aop, blm])\n",
    "preprocess_wf.savedata(blm.outputs.data, join('platform-stories/trial-runs', catid))\n",
    "preprocess_wf.execute()        "
   ]
  }
 ],
 "metadata": {
  "kernelspec": {
   "display_name": "Python 2",
   "language": "python",
   "name": "python2"
  },
  "language_info": {
   "codemirror_mode": {
    "name": "ipython",
    "version": 2
   },
   "file_extension": ".py",
   "mimetype": "text/x-python",
   "name": "python",
   "nbconvert_exporter": "python",
   "pygments_lexer": "ipython2",
   "version": "2.7.11"
  }
 },
 "nbformat": 4,
 "nbformat_minor": 0
}
