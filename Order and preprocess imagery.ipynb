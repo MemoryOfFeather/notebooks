{
 "cells": [
  {
   "cell_type": "markdown",
   "metadata": {},
   "source": [
    "In this example, we order and process imagery with the [image preprocessor](http://gbdxdocs.digitalglobe.com/docs/advanced-image-preprocessor). Each image is specified by a catalog id. \n",
    "Imagery for a given location can be discovered at [discover.digitalglobe.com](https://discover.digitalglobe.com/)."
   ]
  },
  {
   "cell_type": "code",
   "execution_count": 1,
   "metadata": {
    "collapsed": true
   },
   "outputs": [],
   "source": [
    "import os\n",
    "os.environ['GBDX_USERNAME'] = ''\n",
    "os.environ['GBDX_PASSWORD'] = ''\n",
    "os.environ['GBDX_CLIENT_ID'] = '' \n",
    "os.environ['GBDX_CLIENT_SECRET'] = ''\n",
    "\n",
    "import gbdxtools\n",
    "\n",
    "gbdx = gbdxtools.Interface()"
   ]
  },
  {
   "cell_type": "markdown",
   "metadata": {},
   "source": [
    "For the same image, we will generate the:\n",
    "\n",
    "+ orthorectified, atmospherically compensated multispectral image;\n",
    "+ the orthorectified, panchromatic image;\n",
    "+ the orthorectified, atmospherically compensated pansharpened image with default Dynamic Range Adjustment (DRA);\n",
    "+ and the orthorectified atmospherically compensated pansharpened image with base layer matching. \n",
    "\n",
    "It is sometimes the case that pansharpening an image with the default DRA of the image preprocessor results in poor viewing quality. This is the reason for using the base layer matching task. In addition, note that all images are projected in UTM. (If the projection is not specified, the default projection is EPSG:4326.)"
   ]
  },
  {
   "cell_type": "code",
   "execution_count": null,
   "metadata": {
    "collapsed": true
   },
   "outputs": [],
   "source": [
    "catid = '104001001D114300'\n",
    "\n",
    "order = gbdx.Task('Auto_Ordering', cat_id=catid)\n",
    "order.impersonation_allowed = True\n",
    "\n",
    "# multispectral \n",
    "aop1 = gbdx.Task('AOP_Strip_Processor',\n",
    "                 data=order.outputs.s3_location.value,\n",
    "                 bands='MS',\n",
    "                 enable_dra=False,\n",
    "                 enable_pansharpen=False,\n",
    "                 enable_acomp=True,\n",
    "                 ortho_epsg='UTM')     \n",
    "\n",
    "# panchromatic\n",
    "aop2 = gbdx.Task('AOP_Strip_Processor',\n",
    "                 data=order.outputs.s3_location.value,\n",
    "                 bands='PAN',\n",
    "                 enable_dra=False,\n",
    "                 enable_pansharpen=False,\n",
    "                 enable_acomp=False,\n",
    "                 ortho_epsg='UTM')     \n",
    "\n",
    "# pansharpened with default DRA\n",
    "aop3 = gbdx.Task('AOP_Strip_Processor',\n",
    "                 data=order.outputs.s3_location.value,                     \n",
    "                 ortho_epsg='UTM')      \n",
    "\n",
    "# pansharpened with baselayer matching\n",
    "aop4 = gbdx.Task('AOP_Strip_Processor',\n",
    "                 data=order.outputs.s3_location.value,\n",
    "                 enable_dra=False,                     # disable automatic dra \n",
    "                 ortho_epsg='UTM')                         \n",
    "blm = gbdx.Task('baselayermatch',\n",
    "                data=aop3.outputs.data.value,\n",
    "                cloud_id=catid)                        # take clouds into account when dra'ing\n",
    "\n",
    "wf = gbdx.Workflow([order, aop1, aop2, aop3, aop4, blm])\n",
    "\n",
    "from os.path import join\n",
    "import uuid\n",
    "random_str = str(uuid.uuid4())\n",
    "output_location = join('platform-stories/trial-runs', random_str)\n",
    "\n",
    "wf.savedata(aop1.outputs.data, join(output_location, 'ms', catid))\n",
    "wf.savedata(aop2.outputs.data, join(output_location, 'pan', catid))\n",
    "wf.savedata(aop3.outputs.data, join(output_location, 'ps', catid))\n",
    "wf.savedata(blm.outputs.data, join(output_location, 'ps-blm', catid))\n",
    "\n",
    "wf.execute()"
   ]
  },
  {
   "cell_type": "code",
   "execution_count": 7,
   "metadata": {
    "collapsed": false
   },
   "outputs": [
    {
     "name": "stdout",
     "output_type": "stream",
     "text": [
      "platform-stories/trial-runs/006a3648-03fa-45d7-b198-c2db162b9f1e\n",
      "{u'state': u'running', u'event': u'started'}\n"
     ]
    }
   ],
   "source": [
    "print output_location\n",
    "print wf.status"
   ]
  },
  {
   "cell_type": "markdown",
   "metadata": {},
   "source": [
    "If we don't want to save the entire image strip but only a part of it specified by a bounding box, we can chain the image preprocessor to a cropping task. Here is an example for another image."
   ]
  },
  {
   "cell_type": "code",
   "execution_count": null,
   "metadata": {
    "collapsed": true
   },
   "outputs": [],
   "source": [
    "W, S, E, N = (-0.4977187514305114, 51.45510667726173, -0.42132943868637085, 51.48600965926799)\n",
    "\n",
    "wkt = 'POLYGON (({} {}, {} {}, {} {}, {} {}, {} {}))'.format(W, N, E, N, E, S, W, S, W, N)\n",
    "catid = '103001002E5B2600'\n",
    "\n",
    "order = gbdx.Task('Auto_Ordering', cat_id=catid)\n",
    "order.impersonation_allowed = True\n",
    "\n",
    "# multispectral \n",
    "aop1 = gbdx.Task('AOP_Strip_Processor',\n",
    "                 data=order.outputs.s3_location.value,\n",
    "                 bands='MS',\n",
    "                 enable_dra=False,\n",
    "                 enable_pansharpen=False,\n",
    "                 enable_acomp=True,\n",
    "                 ortho_epsg='UTM')     \n",
    "\n",
    "# panchromatic\n",
    "aop2 = gbdx.Task('AOP_Strip_Processor',\n",
    "                 data=order.outputs.s3_location.value,\n",
    "                 bands='PAN',\n",
    "                 enable_dra=False,\n",
    "                 enable_pansharpen=False,\n",
    "                 enable_acomp=False,\n",
    "                 ortho_epsg='UTM')     \n",
    "\n",
    "# pansharpened with default DRA\n",
    "aop3 = gbdx.Task('AOP_Strip_Processor',\n",
    "                 data=order.outputs.s3_location.value,                     \n",
    "                 ortho_epsg='UTM')      \n",
    "\n",
    "# pansharpened with baselayer matching\n",
    "aop4 = gbdx.Task('AOP_Strip_Processor',\n",
    "                 data=order.outputs.s3_location.value,\n",
    "                 enable_dra=False,                     # disable automatic dra \n",
    "                 ortho_epsg='UTM')                         \n",
    "blm = gbdx.Task('baselayermatch',\n",
    "                data=aop4.outputs.data.value,\n",
    "                cloud_id=catid)                        # take clouds into account when dra'ing\n",
    "\n",
    "# cropping\n",
    "crop1 = gbdx.Task('CropGeotiff', \n",
    "                  data=aop1.outputs.data.value,\n",
    "                  wkt_0=wkt, wkt_1=wkt)                # we need to define two ports; a little bug in CropGeotiff\n",
    "crop2 = gbdx.Task('CropGeotiff', \n",
    "                  data=aop2.outputs.data.value,\n",
    "                  wkt_0=wkt, wkt_1=wkt) \n",
    "crop3 = gbdx.Task('CropGeotiff', \n",
    "                  data=aop3.outputs.data.value,\n",
    "                  wkt_0=wkt, wkt_1=wkt) \n",
    "crop4 = gbdx.Task('CropGeotiff', \n",
    "                  data=blm.outputs.data.value,\n",
    "                  wkt_0=wkt, wkt_1=wkt) \n",
    "\n",
    "wf = gbdx.Workflow([order, aop1, aop2, aop3, aop4, blm, crop1, crop2, crop3, crop4])\n",
    "\n",
    "from os.path import join\n",
    "import uuid\n",
    "random_str = str(uuid.uuid4())\n",
    "output_location = join('platform-stories/trial-runs', random_str)\n",
    "\n",
    "wf.savedata(crop1.outputs.data_0, join(output_location, 'ms', catid))\n",
    "wf.savedata(crop2.outputs.data_0, join(output_location, 'pan', catid))\n",
    "wf.savedata(crop3.outputs.data_0, join(output_location, 'ps', catid))\n",
    "wf.savedata(crop4.outputs.data_0, join(output_location, 'ps-blm', catid))\n",
    "\n",
    "wf.execute()"
   ]
  },
  {
   "cell_type": "code",
   "execution_count": 8,
   "metadata": {
    "collapsed": false
   },
   "outputs": [
    {
     "name": "stdout",
     "output_type": "stream",
     "text": [
      "platform-stories/trial-runs/006a3648-03fa-45d7-b198-c2db162b9f1e\n",
      "{u'state': u'running', u'event': u'started'}\n"
     ]
    }
   ],
   "source": [
    "print output_location\n",
    "print wf.status"
   ]
  },
  {
   "cell_type": "markdown",
   "metadata": {},
   "source": [
    "If you want to process multiple images in parallel, all you need to do is loop over the corresponding catalog ids. GBDX will execute the corresponding workflows in parallel."
   ]
  }
 ],
 "metadata": {
  "kernelspec": {
   "display_name": "Python 2",
   "language": "python",
   "name": "python2"
  },
  "language_info": {
   "codemirror_mode": {
    "name": "ipython",
    "version": 2
   },
   "file_extension": ".py",
   "mimetype": "text/x-python",
   "name": "python",
   "nbconvert_exporter": "python",
   "pygments_lexer": "ipython2",
   "version": "2.7.11"
  }
 },
 "nbformat": 4,
 "nbformat_minor": 0
}
