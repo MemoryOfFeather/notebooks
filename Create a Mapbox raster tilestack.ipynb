{
 "cells": [
  {
   "cell_type": "markdown",
   "metadata": {},
   "source": [
    "This GBDX workflow takes an 8-bit pansharpened image, jpeg-compresses it, and uploads it to Mapbox.\n",
    "jpeg-compression reduces the size of the image drastically without a visible effect on quality.\n",
    "More info in this great little blog post: http://blog.cleverelephant.ca/2015/02/geotiff-compression-for-dummies.html"
   ]
  },
  {
   "cell_type": "code",
   "execution_count": null,
   "metadata": {
    "collapsed": false
   },
   "outputs": [],
   "source": [
    "# create a gbdxtools interface\n",
    "\n",
    "import os\n",
    "os.environ['GBDX_USERNAME'] = \n",
    "os.environ['GBDX_PASSWORD'] = \n",
    "os.environ['GBDX_CLIENT_ID'] =  \n",
    "os.environ['GBDX_CLIENT_SECRET'] = \n",
    "\n",
    "import gbdxtools\n",
    "\n",
    "gbdx = gbdxtools.Interface()"
   ]
  },
  {
   "cell_type": "code",
   "execution_count": null,
   "metadata": {
    "collapsed": false
   },
   "outputs": [],
   "source": [
    "# use gdal-cli to jpeg compress\n",
    "compress = gbdx.Task('gdal-cli')\n",
    "\n",
    "# the input image is a pansharpened strip over Adelaide (catalog id 1040010014800C00)\n",
    "compress.inputs.data = 's3://gbd-customer-data/32cbab7a-4307-40c8-bb31-e2de32f940c2/platform-stories/swimming-pools/images'\n",
    "\n",
    "compress.inputs.execution_strategy = 'runonce'\n",
    "compress.inputs.command = 'gdal_translate  $indir/*.tif $outdir/compressed.tif -b 1 -b 2 -b 3 -co COMPRESS=JPEG -co PHOTOMETRIC=YCBCR -co TILED=YES'\n",
    "\n",
    "# use upload-to-mapbox to create tilestack\n",
    "utom = gbdx.Task('upload-to-mapbox')\n",
    "utom.inputs.input = compress.outputs.data.value\n",
    "\n",
    "# specify Mapbox tileset name\n",
    "utom.inputs.tileset_name = 'swimming-pools-adelaide'\n",
    "\n",
    "# specify access token to upload\n",
    "utom.inputs.token = 'ENTER VALID TOKEN HERE'\n",
    "\n",
    "# specify timeout in seconds\n",
    "utom.inputs.timeout = '1200'\n",
    "\n",
    "wf = gbdx.Workflow([compress, utom])\n",
    "wf.execute()"
   ]
  },
  {
   "cell_type": "code",
   "execution_count": null,
   "metadata": {
    "collapsed": false
   },
   "outputs": [],
   "source": [
    "wf.status"
   ]
  },
  {
   "cell_type": "markdown",
   "metadata": {},
   "source": [
    "You can preview the slippy map using the following url. The map id is platformstories.swimming-pools-adelaide."
   ]
  },
  {
   "cell_type": "code",
   "execution_count": null,
   "metadata": {
    "collapsed": false
   },
   "outputs": [],
   "source": [
    "from IPython.display import IFrame\n",
    "IFrame('https://api.mapbox.com/v4/platformstories.swimming-pools-adelaide/page.html?access_token=pk.eyJ1IjoicGxhdGZvcm1zdG9yaWVzIiwiYSI6ImNpeTZkeWlvOTAwNm0yeHFocHFyaGFleDcifQ.wOsbVsS0NXKrWeX2bQwc-g', width=1600, height=800)"
   ]
  },
  {
   "cell_type": "markdown",
   "metadata": {},
   "source": [
    "An example of how to reference a tilestack using Mapbox GL is found [here](http://gbdxstories.digitalglobe.com/pages/osm-lulc/cities.html)."
   ]
  }
 ],
 "metadata": {
  "kernelspec": {
   "display_name": "Python 2",
   "language": "python",
   "name": "python2"
  },
  "language_info": {
   "codemirror_mode": {
    "name": "ipython",
    "version": 2
   },
   "file_extension": ".py",
   "mimetype": "text/x-python",
   "name": "python",
   "nbconvert_exporter": "python",
   "pygments_lexer": "ipython2",
   "version": "2.7.11"
  }
 },
 "nbformat": 4,
 "nbformat_minor": 0
}
