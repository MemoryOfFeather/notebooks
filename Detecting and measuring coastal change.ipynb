{
 "cells": [
  {
   "cell_type": "markdown",
   "metadata": {},
   "source": [
    "Coastal change is a global phenomenon that is attributed to tides, powerful sea currents and overall climate change. It has the potential to threaten communities and local economies of coastal towns and cities.\n",
    "\n",
    "We developed an end-to-end GBDX workflow for coastal change detection and measurement at the native resolution of our 8-band multispectral imagery. This example focuses on Cape Cod, an area which is well known for extreme changes in the coastal landscape. The workflow takes two roughly collocated images of Cape Cod, captured in 2010 and 2016 by WorldView-2 and WorldView-3, respectively, and computes coastal change on the entire images, roughly an area of 1500km2 in less than 30 minutes.\n",
    "\n",
    "The full story is [here](http://gbdxstories.digitalglobe.com/coastal-change/)."
   ]
  },
  {
   "cell_type": "code",
   "execution_count": 2,
   "metadata": {
    "collapsed": true
   },
   "outputs": [],
   "source": [
    "# Specify your credentials and create a gbdx interface\n",
    "\n",
    "import os\n",
    "os.environ['GBDX_USERNAME'] = ''\n",
    "os.environ['GBDX_PASSWORD'] = ''\n",
    "os.environ['GBDX_CLIENT_ID'] = '' \n",
    "os.environ['GBDX_CLIENT_SECRET'] = ''\n",
    "\n",
    "import gbdxtools\n",
    "gbdx = gbdxtools.Interface()"
   ]
  },
  {
   "cell_type": "code",
   "execution_count": 2,
   "metadata": {
    "collapsed": true
   },
   "outputs": [],
   "source": [
    "import uuid\n",
    "from os.path import join\n",
    "\n",
    "# S3 location of the two images\n",
    "input_location = 's3://gbd-customer-data/32cbab7a-4307-40c8-bb31-e2de32f940c2/platform-stories/coastal-change/images'\n",
    "\n",
    "# Image alignment\n",
    "ipa = gbdx.Task('protogenV2CD_READY')\n",
    "ipa.inputs.raster = join(input_location, 'post')\n",
    "ipa.inputs.slave  = join(input_location, 'pre')\n",
    "\n",
    "# Water masks\n",
    "water_pre = gbdx.Task('protogenV2RAW')\n",
    "water_post = gbdx.Task('protogenV2RAW')\n",
    "water_pre.inputs.raster = ipa.outputs.slave.value\n",
    "water_post.inputs.raster = ipa.outputs.data.value\n",
    "\n",
    "# Exclusion mask\n",
    "exclusion_mask = gbdx.Task('protogenV2CD_LULC')\n",
    "exclusion_mask.domain = 'raid'\n",
    "exclusion_mask.inputs.raster = ipa.outputs.data.value\n",
    "exclusion_mask.inputs.slave = ipa.outputs.slave.value\n",
    "\n",
    "# Water gain map\n",
    "bcd_gain = gbdx.Task('protogenV2CD_BIN_GAIN')\n",
    "bcd_gain.inputs.raster = water_post.outputs.data.value\n",
    "bcd_gain.inputs.slave  = water_pre.outputs.data.value\n",
    "bcd_gain.inputs.mask   = exclusion_mask.outputs.data.value\n",
    "\n",
    "# Water loss map\n",
    "bcd_loss = gbdx.Task('protogenV2CD_BIN_LOSS')\n",
    "bcd_loss.inputs.raster = water_post.outputs.data.value\n",
    "bcd_loss.inputs.slave  = water_pre.outputs.data.value\n",
    "bcd_loss.inputs.mask   = exclusion_mask.outputs.data.value\n",
    "\n",
    "# Tristate map\n",
    "bcd_tri = gbdx.Task('protogenV2CD_BIN_TRI')\n",
    "bcd_tri.inputs.raster = water_post.outputs.data.value\n",
    "bcd_tri.inputs.slave  = water_pre.outputs.data.value\n",
    "bcd_tri.inputs.mask   = exclusion_mask.outputs.data.value\n",
    "\n",
    "# Discrete distance transform of gain and loss maps\n",
    "ddt_gain = gbdx.Task('protogenV2CD_GDDT')\n",
    "ddt_gain.inputs.raster = water_post.outputs.data.value\n",
    "ddt_gain.inputs.slave = bcd_gain.outputs.data.value\n",
    "ddt_loss = gbdx.Task('protogenV2CD_LDDT')\n",
    "ddt_loss.inputs.raster = water_post.outputs.data.value\n",
    "ddt_loss.inputs.slave  = bcd_loss.outputs.data.value\n",
    "\n",
    "# Define the workflow\n",
    "wf = gbdx.Workflow([ipa, water_pre, water_post, exclusion_mask, bcd_tri, bcd_loss, bcd_gain, ddt_gain, ddt_loss])\n",
    "\n",
    "# Define output location\n",
    "random_str = str(uuid.uuid4())\n",
    "output_location = join('platform-stories/trial-runs', random_str)\n",
    "\n",
    "# Define where to save outputs from various tasks\n",
    "wf.savedata(water_pre.outputs.data, output_location + '/water_pre')\n",
    "wf.savedata(water_post.outputs.data, output_location + '/water_post')\n",
    "wf.savedata(exclusion_mask.outputs.data, output_location + '/exclusion_mask')\n",
    "wf.savedata(bcd_tri.outputs.data, output_location + '/bcd_tristate')\n",
    "wf.savedata(bcd_gain.outputs.data, output_location + '/bcd_gain')\n",
    "wf.savedata(bcd_loss.outputs.data, output_location + '/bcd_loss')\n",
    "wf.savedata(ddt_gain.outputs.data, output_location + '/ddt_gain')\n",
    "wf.savedata(ddt_loss.outputs.data, output_location + '/ddt_loss')"
   ]
  },
  {
   "cell_type": "code",
   "execution_count": null,
   "metadata": {
    "collapsed": false
   },
   "outputs": [],
   "source": [
    "# Execute the workflow\n",
    "wf.execute()"
   ]
  },
  {
   "cell_type": "code",
   "execution_count": null,
   "metadata": {
    "collapsed": false
   },
   "outputs": [],
   "source": [
    "wf.status"
   ]
  },
  {
   "cell_type": "code",
   "execution_count": null,
   "metadata": {
    "collapsed": false
   },
   "outputs": [],
   "source": [
    "# Check under this location for the output\n",
    "print output_location"
   ]
  },
  {
   "cell_type": "code",
   "execution_count": 3,
   "metadata": {
    "collapsed": false
   },
   "outputs": [],
   "source": [
    "# Create slippy map\n",
    "from ipyleaflet import Map, TileLayer\n",
    "\n",
    "m = Map(center=[41.67, -70.00], zoom=12)\n",
    "\n",
    "# These are the IDAHO TMS urls for the pre image and for the tristate map\n",
    "# We've saved them in IDAHO format in a custom bucket and are serving them through the TMS service\n",
    "url_pre = 'http://idaho.geobigdata.io/v1/tile/platform-stories/0a3e570e-2545-4dae-ae89-37d78f8370c7/{z}/{x}/{y}?bands=4,2,1&token=' + gbdx.gbdx_connection.access_token\n",
    "url_tristate = 'http://idaho.geobigdata.io/v1/tile/platform-stories/c1a57115-af5c-4286-b93c-59009c7ff6c2/{z}/{x}/{y}?bands=0,1,2&token=' + gbdx.gbdx_connection.access_token\n",
    "\n",
    "m.add_layer(TileLayer(url=url_pre))\n",
    "m.add_layer(TileLayer(url=url_tristate, opacity=0.5))\n",
    "    \n",
    "# launch map    \n",
    "m"
   ]
  }
 ],
 "metadata": {
  "kernelspec": {
   "display_name": "Python 2",
   "language": "python",
   "name": "python2"
  },
  "language_info": {
   "codemirror_mode": {
    "name": "ipython",
    "version": 2
   },
   "file_extension": ".py",
   "mimetype": "text/x-python",
   "name": "python",
   "nbconvert_exporter": "python",
   "pygments_lexer": "ipython2",
   "version": "2.7.11"
  }
 },
 "nbformat": 4,
 "nbformat_minor": 0
}
