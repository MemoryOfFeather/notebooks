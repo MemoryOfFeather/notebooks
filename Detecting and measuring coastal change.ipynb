{
 "cells": [
  {
   "cell_type": "markdown",
   "metadata": {},
   "source": [
    "Coastal change is a global phenomenon that is attributed to tides, powerful sea currents and overall climate change. It has the potential to threaten communities and local economies of coastal towns and cities.\n",
    "\n",
    "We developed an end-to-end GBDX workflow for coastal change detection and measurement at the native resolution of our 8-band multispectral imagery. This example focuses on Cape Cod, an area which is well known for extreme changes in the coastal landscape. The workflow takes two roughly collocated images of Cape Cod, captured in 2010 and 2016 by WorldView-2 and WorldView-3, respectively, and computes coastal change on the entire images, roughly an area of 1500km2 in less than 30 minutes.\n",
    "\n",
    "The full story is [here](http://gbdxstories.digitalglobe.com/coastal-change/)."
   ]
  },
  {
   "cell_type": "code",
   "execution_count": null,
   "metadata": {
    "collapsed": true
   },
   "outputs": [],
   "source": [
    "# Specify your credentials and create a gbdx interface\n",
    "\n",
    "import os\n",
    "os.environ['GBDX_USERNAME'] = ''\n",
    "os.environ['GBDX_PASSWORD'] = ''\n",
    "os.environ['GBDX_CLIENT_ID'] = '' \n",
    "os.environ['GBDX_CLIENT_SECRET'] = ''\n",
    "\n",
    "import gbdxtools\n",
    "gbdx = gbdxtools.Interface()"
   ]
  },
  {
   "cell_type": "markdown",
   "metadata": {},
   "source": [
    "Run the following workflow if you want to order and preprocess the imagery yourself. We've already done this so this step is optional. In this case, preprocessing involves ortho-rectification, projection to UTM coordinates, and atmospheric compensation, and takes about one hour per image. Note that if the imagery is not already on GBDX, the ordering step can take a few hours.  "
   ]
  },
  {
   "cell_type": "code",
   "execution_count": null,
   "metadata": {
    "collapsed": true
   },
   "outputs": [],
   "source": [
    "# specify catalog ids\n",
    "catalog_ids = ['1030010004C45A00', '104001001E9EF700']\n",
    "\n",
    "# create order task\n",
    "# it the images are not on GBDX, this task will order them from the DG factory\n",
    "order = gbdx.Task('Auto_Ordering')\n",
    "# pass both catalog ids as inputs - this will launch a batch workflow\n",
    "order.inputs.cat_id = catalog_ids\n",
    "# for this particular task, we need to set this flag to true\n",
    "order.impersonation_allowed = True\n",
    "\n",
    "# create preprocessing task and set input parameters\n",
    "aop = gbdx.Task('AOP_Strip_Processor')\n",
    "aop.inputs.data = order.outputs.s3_location.value\n",
    "aop.inputs.bands = 'MS'\n",
    "aop.inputs.enable_dra = False\n",
    "aop.inputs.enable_pansharpen = False\n",
    "aop.inputs.enable_acomp = True\n",
    "aop.inputs.enable_tiling = False\n",
    "aop.inputs.ortho_epsg = 'UTM'     # this setting is optional\n",
    "\n",
    "# create two-task preprocessing workflow\n",
    "preprocess_wf = gbdx.Workflow([order, aop])\n",
    "\n",
    "# set output location to platform-stories/trial-runs/random_str within your bucket/prefix\n",
    "random_str = str(uuid.uuid4())\n",
    "output_location = join('platform-stories/trial-runs', random_str)\n",
    "\n",
    "# the two processed images will be stored under output_location\n",
    "preprocess_wf.savedata(aop.outputs.data, output_location)\n",
    "\n",
    "# execute\n",
    "preprocess_wf.execute()\n",
    "\n",
    "# monitor status\n",
    "preprocess_wf.status"
   ]
  },
  {
   "cell_type": "markdown",
   "metadata": {},
   "source": [
    "The first step is image pair alignment."
   ]
  },
  {
   "cell_type": "code",
   "execution_count": 4,
   "metadata": {},
   "outputs": [],
   "source": [
    "from os.path import join\n",
    "\n",
    "# S3 location of the two images\n",
    "input_location = 's3://gbd-customer-data/32cbab7a-4307-40c8-bb31-e2de32f940c2/platform-stories/coastal-change/images'\n",
    "\n",
    "# Image alignment\n",
    "ipa = gbdx.Task('protogenV2CD_READY')\n",
    "ipa.inputs.raster = join(input_location, 'post')\n",
    "ipa.inputs.slave  = join(input_location, 'pre')"
   ]
  },
  {
   "cell_type": "markdown",
   "metadata": {},
   "source": [
    "Then the water masks are computed."
   ]
  },
  {
   "cell_type": "code",
   "execution_count": 5,
   "metadata": {
    "collapsed": true
   },
   "outputs": [],
   "source": [
    "# Water masks\n",
    "water_pre = gbdx.Task('protogenV2RAW')\n",
    "water_post = gbdx.Task('protogenV2RAW')\n",
    "water_pre.inputs.raster = ipa.outputs.slave.value\n",
    "water_post.inputs.raster = ipa.outputs.data.value"
   ]
  },
  {
   "cell_type": "markdown",
   "metadata": {},
   "source": [
    "The exclusion mask removes irrelevant, i.e., non-water-related, change."
   ]
  },
  {
   "cell_type": "code",
   "execution_count": 6,
   "metadata": {
    "collapsed": true
   },
   "outputs": [],
   "source": [
    "# Exclusion mask\n",
    "# Enable raid domain as this task is compute-intensive\n",
    "exclusion_mask = gbdx.Task('protogenV2CD_LULC')\n",
    "exclusion_mask.domain = 'raid'\n",
    "exclusion_mask.inputs.raster = ipa.outputs.data.value\n",
    "exclusion_mask.inputs.slave = ipa.outputs.slave.value"
   ]
  },
  {
   "cell_type": "markdown",
   "metadata": {},
   "source": [
    "Compute the gain, loss and tri-state maps, as well as the discrete distance transforms of the gain and loss maps."
   ]
  },
  {
   "cell_type": "code",
   "execution_count": 7,
   "metadata": {
    "collapsed": true
   },
   "outputs": [],
   "source": [
    "# Water gain map\n",
    "bcd_gain = gbdx.Task('protogenV2CD_BIN_GAIN')\n",
    "bcd_gain.inputs.raster = water_post.outputs.data.value\n",
    "bcd_gain.inputs.slave  = water_pre.outputs.data.value\n",
    "bcd_gain.inputs.mask   = exclusion_mask.outputs.data.value\n",
    "\n",
    "# Water loss map\n",
    "bcd_loss = gbdx.Task('protogenV2CD_BIN_LOSS')\n",
    "bcd_loss.inputs.raster = water_post.outputs.data.value\n",
    "bcd_loss.inputs.slave  = water_pre.outputs.data.value\n",
    "bcd_loss.inputs.mask   = exclusion_mask.outputs.data.value\n",
    "\n",
    "# Tristate map\n",
    "bcd_tri = gbdx.Task('protogenV2CD_BIN_TRI')\n",
    "bcd_tri.inputs.raster = water_post.outputs.data.value\n",
    "bcd_tri.inputs.slave  = water_pre.outputs.data.value\n",
    "bcd_tri.inputs.mask   = exclusion_mask.outputs.data.value\n",
    "\n",
    "# Discrete distance transform of gain and loss maps\n",
    "ddt_gain = gbdx.Task('protogenV2CD_GDDT')\n",
    "ddt_gain.inputs.raster = water_post.outputs.data.value\n",
    "ddt_gain.inputs.slave = bcd_gain.outputs.data.value\n",
    "ddt_loss = gbdx.Task('protogenV2CD_LDDT')\n",
    "ddt_loss.inputs.raster = water_post.outputs.data.value\n",
    "ddt_loss.inputs.slave  = bcd_loss.outputs.data.value"
   ]
  },
  {
   "cell_type": "markdown",
   "metadata": {},
   "source": [
    "Create the workflow object, specify where to save outputs and execute."
   ]
  },
  {
   "cell_type": "code",
   "execution_count": 8,
   "metadata": {},
   "outputs": [
    {
     "data": {
      "text/plain": [
       "u'4720931332541981473'"
      ]
     },
     "execution_count": 8,
     "metadata": {},
     "output_type": "execute_result"
    }
   ],
   "source": [
    "# Define the workflow\n",
    "wf = gbdx.Workflow([ipa, water_pre, water_post, exclusion_mask, bcd_tri, bcd_loss, bcd_gain, ddt_gain, ddt_loss])\n",
    "\n",
    "# Define output location\n",
    "output_location = 'platform-stories/trial-runs/coastal-change'\n",
    "\n",
    "# Define where to save outputs from various tasks\n",
    "wf.savedata(water_pre.outputs.data, output_location + '/water_pre')\n",
    "wf.savedata(water_post.outputs.data, output_location + '/water_post')\n",
    "wf.savedata(exclusion_mask.outputs.data, output_location + '/exclusion_mask')\n",
    "wf.savedata(bcd_tri.outputs.data, output_location + '/bcd_tristate')\n",
    "wf.savedata(bcd_gain.outputs.data, output_location + '/bcd_gain')\n",
    "wf.savedata(bcd_loss.outputs.data, output_location + '/bcd_loss')\n",
    "wf.savedata(ddt_gain.outputs.data, output_location + '/ddt_gain')\n",
    "wf.savedata(ddt_loss.outputs.data, output_location + '/ddt_loss')\n",
    "\n",
    "# Execute the workflow\n",
    "wf.execute()"
   ]
  },
  {
   "cell_type": "markdown",
   "metadata": {},
   "source": [
    "Check status."
   ]
  },
  {
   "cell_type": "code",
   "execution_count": 14,
   "metadata": {},
   "outputs": [
    {
     "data": {
      "text/plain": [
       "{u'event': u'succeeded', u'state': u'complete'}"
      ]
     },
     "execution_count": 14,
     "metadata": {},
     "output_type": "execute_result"
    }
   ],
   "source": [
    "wf.status"
   ]
  },
  {
   "cell_type": "markdown",
   "metadata": {},
   "source": [
    "Create map."
   ]
  },
  {
   "cell_type": "code",
   "execution_count": 10,
   "metadata": {},
   "outputs": [
    {
     "data": {
      "application/vnd.jupyter.widget-view+json": {
       "model_id": "8eb011c71f9a4552978a8aa87a481386"
      }
     },
     "metadata": {},
     "output_type": "display_data"
    }
   ],
   "source": [
    "# Create slippy map\n",
    "from ipyleaflet import Map, TileLayer\n",
    "\n",
    "m = Map(center=[41.67, -70.00], zoom=12)\n",
    "\n",
    "# Mapbox TMS URLs\n",
    "mapbox_token = 'pk.eyJ1IjoicGxhdGZvcm1zdG9yaWVzIiwiYSI6ImNpeTZkeWlvOTAwNm0yeHFocHFyaGFleDcifQ.wOsbVsS0NXKrWeX2bQwc-g'\n",
    "url_pre = 'https://a.tiles.mapbox.com/v4/platformstories.coastal-change-pre/{z}/{x}/{y}.png?access_token=' + mapbox_token\n",
    "url_tristate = 'https://a.tiles.mapbox.com/v4/platformstories.coastal-change-tristate/{z}/{x}/{y}.png?access_token=' + mapbox_token\n",
    "\n",
    "m.add_layer(TileLayer(url=url_pre))\n",
    "m.add_layer(TileLayer(url=url_tristate, opacity=0.5))\n",
    "    \n",
    "# launch map    \n",
    "m"
   ]
  }
 ],
 "metadata": {
  "kernelspec": {
   "display_name": "Python 2",
   "language": "python",
   "name": "python2"
  },
  "language_info": {
   "codemirror_mode": {
    "name": "ipython",
    "version": 2
   },
   "file_extension": ".py",
   "mimetype": "text/x-python",
   "name": "python",
   "nbconvert_exporter": "python",
   "pygments_lexer": "ipython2",
   "version": "2.7.12"
  }
 },
 "nbformat": 4,
 "nbformat_minor": 1
}
