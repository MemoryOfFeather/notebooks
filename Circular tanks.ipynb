{
 "cells": [
  {
   "cell_type": "markdown",
   "metadata": {},
   "source": [
    "Run [circular-tank-detector](https://github.com/PlatformStories/circular-tank-detector) on a pan-sharpened image of Fujairah, United Arab Emirates, with models 1 and 2. Details on how models 1 and 2 were obtained can be found in [this blog post](http://gbdxstories.digitalglobe.com/circular-tanks/)."
   ]
  },
  {
   "cell_type": "code",
   "execution_count": 1,
   "metadata": {
    "collapsed": true
   },
   "outputs": [],
   "source": [
    "# Set credentials\n",
    "\n",
    "import os\n",
    "os.environ['GBDX_USERNAME'] = ''\n",
    "os.environ['GBDX_PASSWORD'] = ''\n",
    "os.environ['GBDX_CLIENT_ID'] = '' \n",
    "os.environ['GBDX_CLIENT_SECRET'] = ''\n",
    "\n",
    "import gbdxtools\n",
    "gbdx = gbdxtools.Interface()"
   ]
  },
  {
   "cell_type": "code",
   "execution_count": 13,
   "metadata": {
    "collapsed": true
   },
   "outputs": [],
   "source": [
    "input_location = 's3://gbd-customer-data/32cbab7a-4307-40c8-bb31-e2de32f940c2/platform-stories/circular-tank-detector/'\n",
    "\n",
    "from os.path import join\n",
    "import uuid\n",
    "\n",
    "output_location = join('platform-stories/trial-runs', str(uuid.uuid4()))"
   ]
  },
  {
   "cell_type": "code",
   "execution_count": 4,
   "metadata": {},
   "outputs": [
    {
     "data": {
      "text/plain": [
       "u'4713005137257746784'"
      ]
     },
     "execution_count": 4,
     "metadata": {},
     "output_type": "execute_result"
    }
   ],
   "source": [
    "# Deploy models 1 and 2 with a minimum size of 50m2\n",
    "\n",
    "ctd1 = gbdx.Task('circular-tank-detector')\n",
    "ctd1.inputs.ps_image = join(input_location, 'ps-image')\n",
    "ctd1.inputs.min_size = '50' \n",
    "ctd1.inputs.model = join(input_location, 'models', 'unsupervised')\n",
    "\n",
    "# model 2 is the default model and is built into the task; no need to specify it as input\n",
    "ctd2 = gbdx.Task('circular-tank-detector')\n",
    "ctd2.inputs.ps_image = join(input_location, 'ps-image')\n",
    "ctd2.inputs.min_size = '50' \n",
    "\n",
    "wf = gbdx.Workflow([ctd1, ctd2])\n",
    "wf.savedata(ctd1.outputs.detections, join(output_location, '1'))\n",
    "wf.savedata(ctd2.outputs.detections, join(output_location, '2'))\n",
    "\n",
    "wf.execute()"
   ]
  },
  {
   "cell_type": "code",
   "execution_count": 10,
   "metadata": {},
   "outputs": [
    {
     "data": {
      "text/plain": [
       "{u'event': u'succeeded', u'state': u'complete'}"
      ]
     },
     "execution_count": 10,
     "metadata": {},
     "output_type": "execute_result"
    }
   ],
   "source": [
    "wf.status"
   ]
  }
 ],
 "metadata": {
  "kernelspec": {
   "display_name": "Python 2",
   "language": "python",
   "name": "python2"
  },
  "language_info": {
   "codemirror_mode": {
    "name": "ipython",
    "version": 2
   },
   "file_extension": ".py",
   "mimetype": "text/x-python",
   "name": "python",
   "nbconvert_exporter": "python",
   "pygments_lexer": "ipython2",
   "version": "2.7.12"
  }
 },
 "nbformat": 4,
 "nbformat_minor": 2
}
