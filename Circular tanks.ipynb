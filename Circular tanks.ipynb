{
 "cells": [
  {
   "cell_type": "markdown",
   "metadata": {},
   "source": [
    "Run [circular-tank-detector](https://github.com/PlatformStories/circular-tank-detector) over various locations around the world. Details on circular-tank-detector can be found in [this blog post](http://gbdxstories.digitalglobe.com/circular-tanks/)."
   ]
  },
  {
   "cell_type": "code",
   "execution_count": null,
   "metadata": {
    "collapsed": true
   },
   "outputs": [],
   "source": [
    "# Set credentials\n",
    "\n",
    "import os\n",
    "os.environ['GBDX_USERNAME'] = ''\n",
    "os.environ['GBDX_PASSWORD'] = ''\n",
    "os.environ['GBDX_CLIENT_ID'] = '' \n",
    "os.environ['GBDX_CLIENT_SECRET'] = ''"
   ]
  },
  {
   "cell_type": "code",
   "execution_count": 2,
   "metadata": {
    "collapsed": true
   },
   "outputs": [],
   "source": [
    "import gbdxtools\n",
    "gbdx = gbdxtools.Interface()"
   ]
  },
  {
   "cell_type": "markdown",
   "metadata": {},
   "source": [
    "First run on a set of small strips. The recommended size is less than 4GB."
   ]
  },
  {
   "cell_type": "code",
   "execution_count": 48,
   "metadata": {
    "collapsed": true
   },
   "outputs": [],
   "source": [
    "catids = ['1030010072C98200',      # Cushing, Oklahoma (WV-02)\n",
    "          '103001007342CF00',      # Barcelona, Spain (WV-02)\n",
    "          '10500100088DD800',      # Singapore (GE-01)\n",
    "          '1030010061A65300',      # Shanghai, China (WV-02)\n",
    "          '104001002A163800',      # Rotterdam, Netherland (WV-03)  \n",
    "          '1050050017DD4D00']      # Piraeus, Greece (GE-01)\n",
    "          \n",
    "from os.path import join\n",
    "          \n",
    "wfids = {}          \n",
    "          \n",
    "for catid in catids:          \n",
    "          \n",
    "    # order\n",
    "    order = gbdx.Task('Auto_Ordering', cat_id=catid)\n",
    "    order.impersonation_allowed = True\n",
    "\n",
    "    # acomped pansharpened with baselayer matching in utm\n",
    "    # baselayer matching is optional but results in better colors\n",
    "    aop = gbdx.Task('AOP_Strip_Processor',\n",
    "                     data=order.outputs.s3_location.value,\n",
    "                     enable_dra=False,                      # disable automatic dra\n",
    "                     ortho_epsg='UTM')                         \n",
    "    blm = gbdx.Task('baselayermatch',\n",
    "                    data=aop.outputs.data.value,\n",
    "                    cloud_id=catid)                        # take clouds into account when dra'ing\n",
    "\n",
    "    ctd = gbdx.Task('circular-tank-detector',\n",
    "                    ps_image=blm.outputs.data.value)\n",
    "\n",
    "    wf = gbdx.Workflow([order, aop, blm, ctd])\n",
    "    wf.savedata(blm.outputs.data, join('platform-stories/trial-runs', catid))\n",
    "    wf.savedata(ctd.outputs.detections, join('platform-stories/trial-runs', catid, 'detections'))\n",
    "\n",
    "    wfids[catid] = wf.execute()"
   ]
  },
  {
   "cell_type": "code",
   "execution_count": 57,
   "metadata": {},
   "outputs": [
    {
     "name": "stdout",
     "output_type": "stream",
     "text": [
      "4716506777012140019 {u'state': u'complete', u'event': u'succeeded'}\n",
      "4716506747749273860 {u'state': u'complete', u'event': u'succeeded'}\n",
      "4716506764611475361 {u'state': u'complete', u'event': u'succeeded'}\n",
      "4716506770266181685 {u'state': u'complete', u'event': u'succeeded'}\n",
      "4716506753489487367 {u'state': u'complete', u'event': u'succeeded'}\n",
      "4716506758829433586 {u'state': u'complete', u'event': u'succeeded'}\n"
     ]
    }
   ],
   "source": [
    "for catid in wfids:\n",
    "    wf = gbdx.Workflow([])\n",
    "    wf.id = wfids[catid]\n",
    "    print wf.id, wf.status"
   ]
  },
  {
   "cell_type": "markdown",
   "metadata": {},
   "source": [
    "Calculate waiting time and execution time per km2."
   ]
  },
  {
   "cell_type": "code",
   "execution_count": 58,
   "metadata": {},
   "outputs": [
    {
     "name": "stdout",
     "output_type": "stream",
     "text": [
      "1050050017DD4D00 453.535140827\n",
      "1030010072C98200 278.978191499\n",
      "1030010061A65300 325.093946411\n",
      "104001002A163800 225.424828604\n",
      "103001007342CF00 449.69804398\n",
      "10500100088DD800 258.337497285\n",
      "Mean waiting time: 36.0722222222 min\n",
      "Mean execution time: 0.205727866767 min/km2\n"
     ]
    }
   ],
   "source": [
    "import datetime\n",
    "import numpy as np\n",
    "import pyproj\n",
    "from shapely.wkt import loads\n",
    "from shapely.ops import transform\n",
    "from functools import partial\n",
    "\n",
    "# get datetime object from string timestamp\n",
    "def get_time(timestamp):\n",
    "    return datetime.datetime.strptime(timestamp[:-13], \"%Y-%m-%dT%H:%M:%S\")\n",
    "\n",
    "# get area in km2 from wkt string (we need this for the execution time per km2 calculation)\n",
    "def area_km2(wkt):\n",
    "    shape = loads(wkt)\n",
    "    proj = partial(pyproj.transform, pyproj.Proj(init='epsg:4326'),\n",
    "                   pyproj.Proj('+proj=aea', lat1=shape.bounds[1], lat2=shape.bounds[3]))\n",
    "    return transform(proj, shape).area/float(10**6)\n",
    "\n",
    "submission_times, start_times, end_times, failures, wait_times, exec_times = {}, {}, {}, {} , {}, {}\n",
    "\n",
    "submission_times = {}\n",
    "start_times = {}\n",
    "end_times = {} \n",
    "failures = {}\n",
    "wait_times = []\n",
    "exec_times = []\n",
    "    \n",
    "for catid in wfids:\n",
    "    \n",
    "    # compute the area\n",
    "    wkt =  gbdx.catalog.get_strip_footprint_wkt(catid)\n",
    "    area = area_km2(wkt)\n",
    "    \n",
    "    print catid, area\n",
    "    \n",
    "    wf = gbdx.Workflow([])\n",
    "    wf.id = wfids[catid]\n",
    "\n",
    "    for event in wf.events:\n",
    "\n",
    "        if 'circular-tank-detector' in event['task']:\n",
    "\n",
    "            task_id = event['task_id']            \n",
    "            failures[task_id] = False\n",
    "            \n",
    "            if event['event'] == 'submitted':\n",
    "                submission_times[task_id] = get_time(event['timestamp'])\n",
    "            elif event['event'] == 'started':\n",
    "                start_times[task_id] = get_time(event['timestamp'])\n",
    "            elif event['event'] == 'succeeded':\n",
    "                end_times[task_id] = get_time(event['timestamp'])\n",
    "            elif event['event'] == 'failed':\n",
    "                failures[task_id] = True\n",
    "    \n",
    "for task_id in submission_times:\n",
    "\n",
    "    wait_times.append((start_times[task_id] - submission_times[task_id]).total_seconds()/60)\n",
    "    if not failures[task_id]:\n",
    "        exec_times.append((end_times[task_id] - start_times[task_id]).total_seconds()/(60*area))\n",
    "    \n",
    "print 'Mean waiting time: {} min'.format(np.mean(wait_times))\n",
    "print 'Mean execution time: {} min/km2'.format(np.mean(exec_times))"
   ]
  },
  {
   "cell_type": "markdown",
   "metadata": {},
   "source": [
    "Now run on a set of bigger strips (> 1000 km2). Each strip in broken up in several parts."
   ]
  },
  {
   "cell_type": "code",
   "execution_count": 121,
   "metadata": {},
   "outputs": [],
   "source": [
    "catids = ['10400100324CA000',      # Baytown, Texas (WV03)\n",
    "          '1050010006754D00',      # London, UK (GE-01)\n",
    "          '10300100633B4900']      # Osaka, Japan (WV-02)   \n",
    "          \n",
    "from os.path import join\n",
    "          \n",
    "wfids = {}      \n",
    "\n",
    "tiles = 6\n",
    "          \n",
    "for catid in catids: \n",
    "              \n",
    "    # order\n",
    "    order = gbdx.Task('Auto_Ordering', cat_id=catid)\n",
    "    order.impersonation_allowed = True\n",
    "\n",
    "    # acomped pansharpened with baselayer matching in utm\n",
    "    # baselayer matching is optional but results in better colors\n",
    "    aop = gbdx.Task('AOP_Strip_Processor',\n",
    "                     data=order.outputs.s3_location.value,\n",
    "                     enable_dra=False,                      # disable automatic dra\n",
    "                     ortho_epsg='UTM')                         \n",
    "    blm = gbdx.Task('baselayermatch',\n",
    "                    data=aop.outputs.data.value,\n",
    "                    cloud_id=catid)                        # take clouds into account when dra'ing\n",
    "\n",
    "    # crop\n",
    "    crop = gbdx.Task('CropGeotiff', \n",
    "                     data=blm.outputs.data.value, \n",
    "                     num_partitions=str(tiles))                \n",
    "          \n",
    "    # each of the parts goes to a separate task\n",
    "    ctd = [0]*tiles   \n",
    "    ctd[0] = gbdx.Task('circular-tank-detector', ps_image=crop.outputs.data_0.value)\n",
    "    ctd[1] = gbdx.Task('circular-tank-detector', ps_image=crop.outputs.data_1.value)\n",
    "    ctd[2] = gbdx.Task('circular-tank-detector', ps_image=crop.outputs.data_2.value)\n",
    "    ctd[3] = gbdx.Task('circular-tank-detector', ps_image=crop.outputs.data_3.value)\n",
    "    ctd[4] = gbdx.Task('circular-tank-detector', ps_image=crop.outputs.data_4.value)\n",
    "    ctd[5] = gbdx.Task('circular-tank-detector', ps_image=crop.outputs.data_5.value)\n",
    "    \n",
    "    wf = gbdx.Workflow([order, aop, blm, crop] + ctd)\n",
    "    \n",
    "    wf.savedata(blm.outputs.data, join('platform-stories/trial-runs', catid))\n",
    "    for i in range(tiles):\n",
    "        wf.savedata(ctd[i].outputs.detections, join('platform-stories/trial-runs', catid , 'detections', str(i)))\n",
    "\n",
    "    wfids[catid] = wf.execute()"
   ]
  }
 ],
 "metadata": {
  "kernelspec": {
   "display_name": "Python 2",
   "language": "python",
   "name": "python2"
  },
  "language_info": {
   "codemirror_mode": {
    "name": "ipython",
    "version": 2
   },
   "file_extension": ".py",
   "mimetype": "text/x-python",
   "name": "python",
   "nbconvert_exporter": "python",
   "pygments_lexer": "ipython2",
   "version": "2.7.12"
  }
 },
 "nbformat": 4,
 "nbformat_minor": 2
}
