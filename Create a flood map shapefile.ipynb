{
 "cells": [
  {
   "cell_type": "markdown",
   "metadata": {},
   "source": [
    "In this brief workflow, we derive a flood map using the Protogen flood mapper and then convert it into a shapefile using gdal."
   ]
  },
  {
   "cell_type": "markdown",
   "metadata": {},
   "source": [
    "Define environment variables and create gbdx interface."
   ]
  },
  {
   "cell_type": "code",
   "execution_count": null,
   "metadata": {
    "collapsed": false
   },
   "outputs": [],
   "source": [
    "import os\n",
    "os.environ['GBDX_USERNAME'] = ''\n",
    "os.environ['GBDX_PASSWORD'] = ''\n",
    "os.environ['GBDX_CLIENT_ID'] = '' \n",
    "os.environ['GBDX_CLIENT_SECRET'] = ''\n",
    "\n",
    "import gbdxtools\n",
    "\n",
    "gbdx = gbdxtools.Interface()"
   ]
  },
  {
   "cell_type": "markdown",
   "metadata": {},
   "source": [
    "Create protogen-based flood water mapping task."
   ]
  },
  {
   "cell_type": "code",
   "execution_count": null,
   "metadata": {
    "collapsed": false
   },
   "outputs": [],
   "source": [
    "import protogen\n",
    "import pickle\n",
    "\n",
    "p = protogen.Interface('crime', 'flood_water_mapper')\n",
    "p.crime.flood_water_mapper.tolerance = 50               # [%] aim for water bodies only\n",
    "p.crime.flood_water_mapper.moisture = 3                 # [%] retain all candidates\n",
    "p.crime.flood_water_mapper.binary_output = True         # output format\n",
    "p.crime.flood_water_mapper.min_size = 1000              # noise: average housing roof size in square meters \n",
    "p.crime.flood_water_mapper.min_width = 10               # noise: road width in meters\n",
    "p.image_config.bands = [1, 2, 3, 4, 5, 6, 7, 8]\n",
    "p.verbose = True\n",
    "\n",
    "fld = gbdx.Task('protogen-runner')\n",
    "fld.inputs.pickle = pickle.dumps(p)"
   ]
  },
  {
   "cell_type": "markdown",
   "metadata": {},
   "source": [
    "Define and run the workflow."
   ]
  },
  {
   "cell_type": "code",
   "execution_count": null,
   "metadata": {
    "collapsed": false
   },
   "outputs": [],
   "source": [
    "from os.path import join\n",
    "import uuid\n",
    "\n",
    "wf_ids = {}\n",
    "\n",
    "# location of acomped multispectral image\n",
    "input_location = 's3://gbd-customer-data/32cbab7a-4307-40c8-bb31-e2de32f940c2/platform-stories/flood-water/north-carolina/10400100238BDE00/ms'\n",
    "\n",
    "# where to save the shapefile\n",
    "output_location = join('platform-stories/trial-runs/', str(uuid.uuid4()))\n",
    "\n",
    "# specify input to flood mapper\n",
    "fld.inputs.image = input_location\n",
    "\n",
    "# vectorize output of flood mapper with gdal\n",
    "vectorize = gbdx.Task('gdal-cli')\n",
    "vectorize.inputs.data = fld.outputs.output.value\n",
    "vectorize.inputs.execution_strategy = 'runonce'\n",
    "vectorize.inputs.command = \"\"\"gdal_polygonize.py -f \"ESRI Shapefile\" $indir/*.tif $outdir/vectors.shp\"\"\"\n",
    "## this is for geojson format\n",
    "#vectorize.inputs.command = \"\"\"gdal_polygonize.py -f \"GeoJSON\" $indir/*.tif $outdir/vectors.geojson\"\"\"\n",
    "\n",
    "wf = gbdx.Workflow([fld, vectorize])\n",
    "wf.savedata(vectorize.outputs.data, join(output_location))\n",
    "wf.execute()"
   ]
  },
  {
   "cell_type": "code",
   "execution_count": null,
   "metadata": {
    "collapsed": false
   },
   "outputs": [],
   "source": [
    "print output_location\n",
    "print wf.status"
   ]
  }
 ],
 "metadata": {
  "kernelspec": {
   "display_name": "Python 2",
   "language": "python",
   "name": "python2"
  },
  "language_info": {
   "codemirror_mode": {
    "name": "ipython",
    "version": 2
   },
   "file_extension": ".py",
   "mimetype": "text/x-python",
   "name": "python",
   "nbconvert_exporter": "python",
   "pygments_lexer": "ipython2",
   "version": "2.7.11"
  }
 },
 "nbformat": 4,
 "nbformat_minor": 0
}
