{
 "cells": [
  {
   "cell_type": "markdown",
   "metadata": {},
   "source": [
    "In this brief workflow, we extract a flood water mask and then convert it into a shapefile using gdal."
   ]
  },
  {
   "cell_type": "markdown",
   "metadata": {},
   "source": [
    "Define environment variables and create gbdx interface."
   ]
  },
  {
   "cell_type": "code",
   "execution_count": null,
   "metadata": {
    "collapsed": true
   },
   "outputs": [],
   "source": [
    "import os\n",
    "os.environ['GBDX_USERNAME'] = ''\n",
    "os.environ['GBDX_PASSWORD'] = ''\n",
    "os.environ['GBDX_CLIENT_ID'] = '' \n",
    "os.environ['GBDX_CLIENT_SECRET'] = ''\n",
    "\n",
    "import gbdxtools\n",
    "gbdx = gbdxtools.Interface()"
   ]
  },
  {
   "cell_type": "markdown",
   "metadata": {},
   "source": [
    "Execute workflow."
   ]
  },
  {
   "cell_type": "code",
   "execution_count": 6,
   "metadata": {},
   "outputs": [
    {
     "data": {
      "text/plain": [
       "u'4722465786451634940'"
      ]
     },
     "execution_count": 6,
     "metadata": {},
     "output_type": "execute_result"
    }
   ],
   "source": [
    "# location of acomped multispectral image\n",
    "input_location = 's3://gbd-customer-data/32cbab7a-4307-40c8-bb31-e2de32f940c2/platform-stories/flood-water/north-carolina/10400100238BDE00/ms'\n",
    "\n",
    "# specify input to flood mapper\n",
    "fm = gbdx.Task('flood-mapper')\n",
    "fm.inputs.image = input_location\n",
    "\n",
    "# vectorize output of flood mapper with gdal\n",
    "vectorize = gbdx.Task('gdal-cli')\n",
    "vectorize.inputs.data = fm.outputs.image.value\n",
    "vectorize.inputs.execution_strategy = 'runonce'\n",
    "vectorize.inputs.command = \"\"\"gdal_polygonize.py -f \"ESRI Shapefile\" $indir/*.tif $outdir/vectors.shp\"\"\"\n",
    "## this is for geojson format\n",
    "#vectorize.inputs.command = \"\"\"gdal_polygonize.py -f \"GeoJSON\" $indir/*.tif $outdir/vectors.geojson\"\"\"\n",
    "\n",
    "wf = gbdx.Workflow([fm, vectorize])\n",
    "wf.savedata(fm.outputs.image, 'platform-stories/trial-runs/flood-water/mask')\n",
    "wf.savedata(vectorize.outputs.data, 'platform-stories/trial-runs/flood-water/shapefile')\n",
    "wf.execute()"
   ]
  },
  {
   "cell_type": "code",
   "execution_count": 7,
   "metadata": {},
   "outputs": [
    {
     "data": {
      "text/plain": [
       "{u'event': u'started', u'state': u'running'}"
      ]
     },
     "execution_count": 7,
     "metadata": {},
     "output_type": "execute_result"
    }
   ],
   "source": [
    "wf.status"
   ]
  }
 ],
 "metadata": {
  "kernelspec": {
   "display_name": "Python 2",
   "language": "python",
   "name": "python2"
  },
  "language_info": {
   "codemirror_mode": {
    "name": "ipython",
    "version": 2
   },
   "file_extension": ".py",
   "mimetype": "text/x-python",
   "name": "python",
   "nbconvert_exporter": "python",
   "pygments_lexer": "ipython2",
   "version": "2.7.12"
  }
 },
 "nbformat": 4,
 "nbformat_minor": 1
}
