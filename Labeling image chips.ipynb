{
 "cells": [
  {
   "cell_type": "markdown",
   "metadata": {},
   "source": [
    "This notebook can be used to classify jpeg chips stored locally. Chips are selected randomly from the pool. The interface allows the user to go back, e.g., in order to correct a label, or to stop.\n",
    "The labels are stored in a json file where each entry corresponds to the chip filename followed by the label for that chip."
   ]
  },
  {
   "cell_type": "code",
   "execution_count": null,
   "metadata": {
    "collapsed": true
   },
   "outputs": [],
   "source": [
    "from IPython.display import Image, clear_output, display\n",
    "from IPython.core.interactiveshell import InteractiveShell\n",
    "InteractiveShell.ast_node_interactivity = \"all\""
   ]
  },
  {
   "cell_type": "markdown",
   "metadata": {},
   "source": [
    "Specify the classes and some other parameters."
   ]
  },
  {
   "cell_type": "code",
   "execution_count": null,
   "metadata": {
    "collapsed": true
   },
   "outputs": [],
   "source": [
    "classes = ['Building', 'No building']              \n",
    "samples = 10                             # number of samples to collect\n",
    "save_every = 2                           # save the json every save_every samples collected\n",
    "filename = 'labels.json'                 # where to store the labels \n",
    "display_width = 256                      # width display in pixels"
   ]
  },
  {
   "cell_type": "markdown",
   "metadata": {},
   "source": [
    "Label!"
   ]
  },
  {
   "cell_type": "code",
   "execution_count": null,
   "metadata": {
    "collapsed": true
   },
   "outputs": [],
   "source": [
    "import json\n",
    "import numpy as np\n",
    "import os\n",
    "\n",
    "# Create prompt\n",
    "prompt = 'Provide input: '\n",
    "for i, cls in enumerate(classes):\n",
    "    prompt += '{}: {}, '.format(i+1, cls)\n",
    "\n",
    "prompt += 'b: back, s: stop '\n",
    "        \n",
    "ct = 0                  # counter of labels collected so far   \n",
    "data = []               # data to be dumped in json\n",
    "counter_to_save = 0     # counter to save_every\n",
    "\n",
    "# open the file if it already exists\n",
    "try:\n",
    "    with open(filename) as f:\n",
    "        data = json.load(f)\n",
    "    ct = len(data)\n",
    "    # if enough data has been collected for this tile, alert the user and stop\n",
    "    if ct == samples:\n",
    "        print 'You have collected enough labels.'\n",
    "        raise KeyboardInterrupt\n",
    "except IOError:\n",
    "    pass\n",
    "    \n",
    "print '{} chips labeled so far'.format(ct) \n",
    "        \n",
    "chips = os.listdir('.')\n",
    "went_back = False\n",
    "inp = None\n",
    "game_over = False\n",
    "        \n",
    "while ct < samples and not game_over:\n",
    "            \n",
    "    print 'Counter: ' + str(ct)\n",
    "\n",
    "    # pick a chip\n",
    "    if not went_back:\n",
    "        index = np.random.randint(1, len(chips)+1, 1)[0]\n",
    "        chip = chips[index]                \n",
    "    else:\n",
    "        chip = data[-1].keys()[0] + '.jpg'\n",
    "        ct -= 1\n",
    "        data = data[:ct]\n",
    "        went_back = False\n",
    "\n",
    "    print chip\n",
    "\n",
    "    try:\n",
    "        Image(filename=chip, format='jpg', width=display_width)\n",
    "    except IOError:\n",
    "        continue\n",
    "\n",
    "    while True:\n",
    "\n",
    "        inp = str(raw_input(prompt))\n",
    "\n",
    "        # Go to previous chip\n",
    "        if inp == 'b':\n",
    "            if ct >= 1:\n",
    "                print 'b: ' + str(ct)\n",
    "                went_back = True\n",
    "                break\n",
    "            else:\n",
    "                print('Can not go back!')\n",
    "                continue\n",
    "        elif inp == 's':\n",
    "            print('stopping')\n",
    "            game_over = True\n",
    "            break\n",
    "        elif inp in map(str, range(1, len(classes)+1)):\n",
    "            label = classes[int(inp)-1] \n",
    "        else:\n",
    "            print('Please provide a valid input')\n",
    "            continue\n",
    "\n",
    "        ct += 1\n",
    "        data.append({chip[:-4]: label})\n",
    "        counter_to_save += 1\n",
    "        break\n",
    "\n",
    "    if counter_to_save == save_every or ct == samples or game_over:\n",
    "        with open(filename, 'wb') as f:\n",
    "            json.dump(data, f)\n",
    "        counter_to_save = 0\n",
    "\n",
    "    clear_output()\n",
    "    \n",
    "print 'Done!'    "
   ]
  }
 ],
 "metadata": {
  "anaconda-cloud": {},
  "kernelspec": {
   "display_name": "Python 2",
   "language": "python",
   "name": "python2"
  },
  "language_info": {
   "codemirror_mode": {
    "name": "ipython",
    "version": 2
   },
   "file_extension": ".py",
   "mimetype": "text/x-python",
   "name": "python",
   "nbconvert_exporter": "python",
   "pygments_lexer": "ipython2",
   "version": "2.7.12"
  }
 },
 "nbformat": 4,
 "nbformat_minor": 1
}
